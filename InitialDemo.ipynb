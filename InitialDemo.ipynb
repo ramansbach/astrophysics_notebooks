{
  "nbformat": 4,
  "nbformat_minor": 0,
  "metadata": {
    "colab": {
      "provenance": [],
      "authorship_tag": "ABX9TyNNOvpD2dr7+w4+jTP0P60G",
      "include_colab_link": true
    },
    "kernelspec": {
      "name": "python3",
      "display_name": "Python 3"
    },
    "language_info": {
      "name": "python"
    }
  },
  "cells": [
    {
      "cell_type": "markdown",
      "metadata": {
        "id": "view-in-github",
        "colab_type": "text"
      },
      "source": [
        "<a href=\"https://colab.research.google.com/github/ramansbach/astrophysics_notebooks/blob/main/InitialDemo.ipynb\" target=\"_parent\"><img src=\"https://colab.research.google.com/assets/colab-badge.svg\" alt=\"Open In Colab\"/></a>"
      ]
    },
    {
      "cell_type": "markdown",
      "source": [
        "# Astrophysics Initial Course Demo of Python\n",
        "In this course, we will do a little bit of coding to get you used to the tools that many astrophysicists use regularly.  I hope to make the course fairly accessible for a broad range of coding expertise.\n",
        "\n",
        "Let's see how we can understand some really basic math!"
      ],
      "metadata": {
        "id": "iR4Dxo4DAl_y"
      }
    },
    {
      "cell_type": "code",
      "source": [
        "#Variable assignment (computers can only think in numbers!)\n",
        "x = 4\n",
        "y = 5\n",
        "x+y"
      ],
      "metadata": {
        "colab": {
          "base_uri": "https://localhost:8080/"
        },
        "id": "8TcBOxSLA2xn",
        "outputId": "b27f5496-2fe9-49ad-ee96-0c42713e4084"
      },
      "execution_count": null,
      "outputs": [
        {
          "output_type": "execute_result",
          "data": {
            "text/plain": [
              "9"
            ]
          },
          "metadata": {},
          "execution_count": 1
        }
      ]
    },
    {
      "cell_type": "code",
      "source": [
        "#Reporting the outcome of a calculation\n",
        "x = 4\n",
        "y = 5\n",
        "z = x+y\n",
        "print(\"z is {}\".format(z))"
      ],
      "metadata": {
        "colab": {
          "base_uri": "https://localhost:8080/"
        },
        "id": "wAwiWXErA_I3",
        "outputId": "8aa874ca-aca3-4b6a-c82e-9697246645fb"
      },
      "execution_count": null,
      "outputs": [
        {
          "output_type": "stream",
          "name": "stdout",
          "text": [
            "z is 9\n"
          ]
        }
      ]
    },
    {
      "cell_type": "code",
      "source": [
        "#A very simple function\n",
        "#It will convert degrees to radians\n",
        "#how do we know what pi is?\n",
        "import numpy as np\n",
        "pi = np.pi\n",
        "def f(deg):\n",
        "  rad = deg * pi / 180\n",
        "  return rad"
      ],
      "metadata": {
        "id": "QCwchQaEBG9-"
      },
      "execution_count": null,
      "outputs": []
    },
    {
      "cell_type": "code",
      "source": [
        "f(360)"
      ],
      "metadata": {
        "colab": {
          "base_uri": "https://localhost:8080/"
        },
        "id": "K93odvMfBomu",
        "outputId": "dbb5a1fe-0d9a-4017-d97b-4c519ba9365e"
      },
      "execution_count": null,
      "outputs": [
        {
          "output_type": "execute_result",
          "data": {
            "text/plain": [
              "6.283185307179586"
            ]
          },
          "metadata": {},
          "execution_count": 13
        }
      ]
    },
    {
      "cell_type": "code",
      "source": [
        "print(f(360))"
      ],
      "metadata": {
        "colab": {
          "base_uri": "https://localhost:8080/"
        },
        "id": "OiVpYkrpBp1w",
        "outputId": "4c7e84a0-9993-4e52-9b77-d04e6158bd25"
      },
      "execution_count": null,
      "outputs": [
        {
          "output_type": "stream",
          "name": "stdout",
          "text": [
            "6.283185307179586\n"
          ]
        }
      ]
    },
    {
      "cell_type": "code",
      "source": [
        "twopi = f(360)"
      ],
      "metadata": {
        "id": "pNEOUKl3DCPH"
      },
      "execution_count": null,
      "outputs": []
    },
    {
      "cell_type": "code",
      "source": [
        "print(twopi)"
      ],
      "metadata": {
        "colab": {
          "base_uri": "https://localhost:8080/"
        },
        "id": "GmHS6qjNDE0X",
        "outputId": "d1020d38-fca1-4ed2-dc99-82ed2228e6bb"
      },
      "execution_count": null,
      "outputs": [
        {
          "output_type": "stream",
          "name": "stdout",
          "text": [
            "6.283185307179586\n"
          ]
        }
      ]
    },
    {
      "cell_type": "code",
      "source": [
        "import matplotlib.pyplot as plt"
      ],
      "metadata": {
        "id": "TSVKIqsLDFbv"
      },
      "execution_count": null,
      "outputs": []
    },
    {
      "cell_type": "code",
      "source": [
        "#Plotting / graphing a numerical function\n",
        "degs = np.arange(0,360,0.1)\n",
        "rads = f(degs)\n",
        "plt.plot(degs,rads)\n",
        "plt.xlabel('degrees',fontsize = 15)\n",
        "plt.ylabel('radians',fontsize = 15)"
      ],
      "metadata": {
        "colab": {
          "base_uri": "https://localhost:8080/",
          "height": 473
        },
        "id": "svBqQ5RODIgw",
        "outputId": "781c2615-f289-42d0-da63-74a0292e5313"
      },
      "execution_count": null,
      "outputs": [
        {
          "output_type": "execute_result",
          "data": {
            "text/plain": [
              "Text(0, 0.5, 'radians')"
            ]
          },
          "metadata": {},
          "execution_count": 21
        },
        {
          "output_type": "display_data",
          "data": {
            "text/plain": [
              "<Figure size 640x480 with 1 Axes>"
            ],
            "image/png": "[encoded data removed]"
          },
          "metadata": {}
        }
      ]
    },
    {
      "cell_type": "code",
      "source": [],
      "metadata": {
        "id": "QqIRZWDlDRpy"
      },
      "execution_count": null,
      "outputs": []
    }
  ]
}