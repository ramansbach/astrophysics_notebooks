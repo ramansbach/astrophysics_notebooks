{
  "nbformat": 4,
  "nbformat_minor": 0,
  "metadata": {
    "colab": {
      "provenance": [],
      "authorship_tag": "ABX9TyNkvCwTdE8IH0RKJbVlTlOd",
      "include_colab_link": true
    },
    "kernelspec": {
      "name": "python3",
      "display_name": "Python 3"
    },
    "language_info": {
      "name": "python"
    }
  },
  "cells": [
    {
      "cell_type": "markdown",
      "metadata": {
        "id": "view-in-github",
        "colab_type": "text"
      },
      "source": [
        "<a href=\"https://colab.research.google.com/github/ramansbach/astrophysics_notebooks/blob/main/Week10_SiriusB.ipynb\" target=\"_parent\"><img src=\"https://colab.research.google.com/assets/colab-badge.svg\" alt=\"Open In Colab\"/></a>"
      ]
    },
    {
      "cell_type": "markdown",
      "source": [
        "#Electron Degeneracy Pressure in Sirius B\n",
        "Sirius B has a mass of about one solar mass with a radius of just 0.008 solar radii. What is the necessary pressure to keep it from collapsing?  Could electron degeneracy pressure be responsible?"
      ],
      "metadata": {
        "id": "DC727hjwpJLA"
      }
    },
    {
      "cell_type": "code",
      "execution_count": 2,
      "metadata": {
        "colab": {
          "base_uri": "https://localhost:8080/"
        },
        "id": "VkOBnVUFpHJh",
        "outputId": "16a942f1-8c4b-49bd-8434-14815be299b1"
      },
      "outputs": [
        {
          "output_type": "stream",
          "name": "stdout",
          "text": [
            "Requirement already satisfied: astropy in /usr/local/lib/python3.10/dist-packages (6.1.4)\n",
            "Requirement already satisfied: numpy>=1.23 in /usr/local/lib/python3.10/dist-packages (from astropy) (1.26.4)\n",
            "Requirement already satisfied: pyerfa>=2.0.1.1 in /usr/local/lib/python3.10/dist-packages (from astropy) (2.0.1.4)\n",
            "Requirement already satisfied: astropy-iers-data>=0.2024.8.27.10.28.29 in /usr/local/lib/python3.10/dist-packages (from astropy) (0.2024.10.7.0.32.46)\n",
            "Requirement already satisfied: PyYAML>=3.13 in /usr/local/lib/python3.10/dist-packages (from astropy) (6.0.2)\n",
            "Requirement already satisfied: packaging>=19.0 in /usr/local/lib/python3.10/dist-packages (from astropy) (24.1)\n",
            "Collecting mendeleev\n",
            "  Downloading mendeleev-0.18.1-py3-none-any.whl.metadata (20 kB)\n",
            "Requirement already satisfied: Pygments<3.0.0,>=2.11.2 in /usr/local/lib/python3.10/dist-packages (from mendeleev) (2.18.0)\n",
            "Requirement already satisfied: SQLAlchemy>=1.4.0 in /usr/local/lib/python3.10/dist-packages (from mendeleev) (2.0.35)\n",
            "Collecting colorama<0.5.0,>=0.4.6 (from mendeleev)\n",
            "  Downloading colorama-0.4.6-py2.py3-none-any.whl.metadata (17 kB)\n",
            "Requirement already satisfied: numpy<2.0,>=1.21 in /usr/local/lib/python3.10/dist-packages (from mendeleev) (1.26.4)\n",
            "Requirement already satisfied: pandas>=1.0.0 in /usr/local/lib/python3.10/dist-packages (from mendeleev) (2.2.2)\n",
            "Collecting pyfiglet<0.9,>=0.8.post1 (from mendeleev)\n",
            "  Downloading pyfiglet-0.8.post1-py2.py3-none-any.whl.metadata (1.3 kB)\n",
            "Requirement already satisfied: python-dateutil>=2.8.2 in /usr/local/lib/python3.10/dist-packages (from pandas>=1.0.0->mendeleev) (2.8.2)\n",
            "Requirement already satisfied: pytz>=2020.1 in /usr/local/lib/python3.10/dist-packages (from pandas>=1.0.0->mendeleev) (2024.2)\n",
            "Requirement already satisfied: tzdata>=2022.7 in /usr/local/lib/python3.10/dist-packages (from pandas>=1.0.0->mendeleev) (2024.2)\n",
            "Requirement already satisfied: typing-extensions>=4.6.0 in /usr/local/lib/python3.10/dist-packages (from SQLAlchemy>=1.4.0->mendeleev) (4.12.2)\n",
            "Requirement already satisfied: greenlet!=0.4.17 in /usr/local/lib/python3.10/dist-packages (from SQLAlchemy>=1.4.0->mendeleev) (3.1.1)\n",
            "Requirement already satisfied: six>=1.5 in /usr/local/lib/python3.10/dist-packages (from python-dateutil>=2.8.2->pandas>=1.0.0->mendeleev) (1.16.0)\n",
            "Downloading mendeleev-0.18.1-py3-none-any.whl (1.3 MB)\n",
            "\u001b[2K   \u001b[90m━━━━━━━━━━━━━━━━━━━━━━━━━━━━━━━━━━━━━━━━\u001b[0m \u001b[32m1.3/1.3 MB\u001b[0m \u001b[31m17.0 MB/s\u001b[0m eta \u001b[36m0:00:00\u001b[0m\n",
            "\u001b[?25hDownloading colorama-0.4.6-py2.py3-none-any.whl (25 kB)\n",
            "Downloading pyfiglet-0.8.post1-py2.py3-none-any.whl (865 kB)\n",
            "\u001b[2K   \u001b[90m━━━━━━━━━━━━━━━━━━━━━━━━━━━━━━━━━━━━━━━━\u001b[0m \u001b[32m865.8/865.8 kB\u001b[0m \u001b[31m23.7 MB/s\u001b[0m eta \u001b[36m0:00:00\u001b[0m\n",
            "\u001b[?25hInstalling collected packages: pyfiglet, colorama, mendeleev\n",
            "Successfully installed colorama-0.4.6 mendeleev-0.18.1 pyfiglet-0.8.post1\n"
          ]
        }
      ],
      "source": [
        "! pip install astropy\n",
        "! pip install mendeleev"
      ]
    },
    {
      "cell_type": "markdown",
      "source": [
        "We just derived that $P(r) \\approx \\frac{2}{3}\\pi G \\rho^2 (R^2 - r^2)$ making the assumption of constant density. At the center, $r = 0$, so $P_c \\approx \\frac{2}{3}\\pi G \\rho^2 R_{SB}^2$."
      ],
      "metadata": {
        "id": "b41YAK6tqoLF"
      }
    },
    {
      "cell_type": "code",
      "source": [
        "import numpy as np, matplotlib.pyplot as plt\n",
        "import astropy.constants as const\n",
        "import astropy.units as u\n",
        "from mendeleev import element"
      ],
      "metadata": {
        "id": "XYRRvYThrogH"
      },
      "execution_count": 3,
      "outputs": []
    },
    {
      "cell_type": "code",
      "source": [
        "MSB = const.M_sun\n",
        "RSB = 0.008 * const.R_sun\n",
        "rhoSB = MSB / ((4/3) * np.pi * RSB**3)\n",
        "Pc = 2./3 * np.pi * const.G * rhoSB**2 * RSB**2\n",
        "print(\"The pressure at the center of Sirius B is approximately {}\".format(Pc.decompose()))"
      ],
      "metadata": {
        "colab": {
          "base_uri": "https://localhost:8080/"
        },
        "id": "5freqAK2pdyO",
        "outputId": "854d68ef-1d51-4fd6-e2f9-4d829d2038c9"
      },
      "execution_count": 8,
      "outputs": [
        {
          "output_type": "stream",
          "name": "stdout",
          "text": [
            "The pressure at the center of Sirius B is approximately 3.2828495360068826e+22 kg / (m s2)\n"
          ]
        }
      ]
    },
    {
      "cell_type": "markdown",
      "source": [
        "How do we derive an expression for electron degeneracy pressure?  We have to consider two physical principles:\n",
        "\n",
        "(1) The Pauli exclusion principle, which says only one electron can be in a state at once and\n",
        "\n",
        "(2) the Heisenberg uncertainty principle, $\\Delta x \\Delta p_x \\approx \\hbar$.\n",
        "\n",
        "We will also need a result from statistical mechanics, that the pressure of a gas of electrons is approximately\n",
        "\n",
        "$$\n",
        "P_e = \\frac{1}{3} n_e p v,\n",
        "$$\n",
        "\n",
        "where $n_e = \\frac{N_e}{V}$ is the number density of electrons in an ideal electron gas, and $p$ and $v$ are their average momenta and velocity.\n",
        "\n",
        "Consider an electron sitting in a little box with volume $V_e$ in this gas. If there are $N_e$ total electrons in the gas, then $N_e V_e = V$.  If the little box has sides of length $l_e$, then we could also write this as $N_e l_e^3 = V$, meaning that $l_e = \\left(\\frac{V}{N_e}\\right)^{1/3} = n_e^{-1/3}$. But the uncertainty in $x$ cannot be bigger than $l_e$, otherwise electrons would start overlapping one another and we would violate Rule 1.  So we can assume $\\Delta x \\approx l_e = n_e^{-1/3}$ for complete degeneracy.\n",
        "\n",
        "Similarly, the uncertainty in the momentum can't be much less than the minimum momentum, so we can assume\n",
        "\n",
        "$$p_x \\approx \\Delta p_x \\approx \\frac{\\hbar}{\\Delta x} \\approx \\hbar n_e^{1/3}\n",
        "$$\n",
        "\n",
        "in the $x$ direction for a degenerate electron gas.  Since in a gas all three dimensions look exactly the same, this will be the same for the $y$ and the $z$ directions, and the total momentum can be written as $p^2 = p_x^2 + p_y^2 + p_z^2 = 3 p_x^2$ or $p = \\sqrt{3} p_x \\approx \\sqrt{3} \\hbar n_e^{1/3}$.\n",
        "\n",
        "For non-relativistic electrons, meanwhile, the velocity $v = \\frac{p}{m_e} \\approx \\frac{\\sqrt{3}\\hbar}{m_e}n_e^{1/3}$.\n",
        "\n",
        "Putting these expressions together, we get an approximation for the pressure of a non-relativistic electron gas,\n",
        "\n",
        "$$\n",
        "P = \\frac{1}{3}n_e\\left(\\sqrt{3}\\hbar n_e^{1/3}  \\right) \\left( \\frac{\\sqrt{3}\\hbar}{m_e}n_e^{1/3}\\right) = \\frac{\\hbar^2}{m_e}n_e^{5/3}\n",
        "$$\n",
        "\n",
        "We can estimate the number density of electrons $n_e$ as the number of electrons per nucleon times the number of nucleans per volume. If the volume is neutral, the number of electrons per nucleon will be the same as the number of protons per nucleon.  Meanwhile, we can write the number of nucleons as the total mass of nucleons divided by the mass of an average nucleon, which we approximate to be $m_H$ or approximately a proton mass.  Therefore, our expression for the number density becomes\n",
        "\n",
        "$$\n",
        "n_e = \\frac{Z}{A}\\frac{M/V}{m_H} = \\frac{Z}{A}\\frac{\\rho}{m_H}\n",
        "$$\n",
        "\n",
        "We use $Z/A = 0.5$ for a Carbon-Oxygen core, and compute the average electron density and our very approximate approximation for the pressure at the core:\n",
        "\n"
      ],
      "metadata": {
        "id": "FujsmDI1zPBr"
      }
    },
    {
      "cell_type": "code",
      "source": [
        "n_e = 0.5 * rhoSB / const.m_p\n",
        "P_degen = (const.hbar**2/const.m_e) * (n_e**(5./3))\n",
        "print(\"The available degeneracy pressure is approximately {}\".format(P_degen.decompose()))"
      ],
      "metadata": {
        "id": "klvufXqzzFbz",
        "colab": {
          "base_uri": "https://localhost:8080/"
        },
        "outputId": "9b812caf-2c36-4e73-dc63-4ca5e0222b79"
      },
      "execution_count": 9,
      "outputs": [
        {
          "output_type": "stream",
          "name": "stdout",
          "text": [
            "The available degeneracy pressure is approximately 8.825769390273222e+21 kg / (m s2)\n"
          ]
        }
      ]
    },
    {
      "cell_type": "markdown",
      "source": [
        "Thus, our rather rough approximations for the pressure at the center $P_c \\approx 3 \\times 10^{22}$kg-m$^{-1}$s$^{-2}$ and the pressure that can be provided by electron degeneracy $P \\approx 0.9\\times 10^{22}$ kg-m$^{-1}$s$^{-2}$ match to about the same order of magnitude! (It turns out a more careful calculation of the degeneracy pressure for non-relativistic electrons is about a factor of 2 bigger, matching even better.)"
      ],
      "metadata": {
        "id": "FRLkwg7ge_Sq"
      }
    },
    {
      "cell_type": "markdown",
      "source": [
        "#How big can white dwarfs get?\n",
        "\n",
        "Let's once again make some gratuitous assumptions.  The pressure at the center of a white dwarf with assumed constant density $\\rho = \\frac{M_{wd}}{4/3 \\pi R_{wd}^3}$ is approximately\n",
        "\n",
        "$$\n",
        "P_c \\approx  \\frac{2}{3}\\pi G \\rho^2 R_{wd}^2\n",
        "$$\n",
        "\n",
        "$$\n",
        "= \\frac{2}{3}\\pi G \\left(\\frac{M_{wd}}{4/3 \\pi R_{wd}^3} \\right)^2 R_{wd}^2\n",
        "$$\n",
        "\n",
        "$$\n",
        "= \\frac{2}{3}\\pi G \\frac{9 M_{wd}^2}{16 \\pi^2}R_{wd}^{-6}R_{wd}^{2}\n",
        "$$\n",
        "\n",
        "\n",
        "$$\n",
        "=  G \\frac{3 M_{wd}^2}{8 \\pi}R_{wd}^{-4}\n",
        "$$\n",
        "\n",
        "Now, as it turns out, we cannot assume that the electrons are non-relativistic for white dwarfs at their most extreme conditions (which will be when they are as big as possible.) A careful derivation of the maximum *relativistic* electron degeneracy pressure results in the following expression,\n",
        "\n",
        "$$\n",
        "P_{rel} = \\frac{\\left(3\\pi^2\\right)^{1/3}}{4}\\hbar c\\left[\\left(\\frac{Z}{A}\\right)\\frac{\\rho}{m_H} \\right]^{4/3}\n",
        "$$.\n",
        "\n",
        "Using the same assumption for $\\rho$ and $Z/A = 0.5 = 1/2$, we can write this as,\n",
        "\n",
        "$$\n",
        "P_{rel}\\approx \\frac{\\left(3\\pi^2\\right)^{1/3}}{4}\\hbar c\\left[\\left(\\frac{1}{2}\\right)\\frac{\\frac{M_{wd}}{4/3 \\pi R_{wd}^3}}{m_H} \\right]^{4/3}\n",
        "$$\n",
        "\n",
        "$$\n",
        "P_{rel}\\approx \\frac{\\left(3\\pi^2\\right)^{1/3}}{4}\\hbar c \\left(\\frac{3}{8\\pi m_H}\\right)^{4/3}M_{wd}^{4/3}R_{wd}^{-4}\n",
        "$$\n",
        "\n",
        "Now let's set these equal to get an expression for the maximum mass:\n",
        "\n",
        "$$\n",
        "G \\frac{3 M_{wd}^2}{8 \\pi}R_{wd}^{-4} \\approx \\frac{\\left(3\\pi^2\\right)^{1/3}}{4}\\hbar c \\left(\\frac{3}{8\\pi m_H}\\right)^{4/3}M_{wd}^{4/3}R_{wd}^{-4}  \n",
        "$$\n",
        "\n",
        "The radii cancel and we can solve for the mass:\n",
        "\n",
        "$$\n",
        " \\frac{M_{wd}^2}{ M_{wd}^{4/3}} \\approx \\frac{8 \\pi\\left(3\\pi^2\\right)^{1/3}}{3*4G}\\hbar c \\left(\\frac{3}{8\\pi m_H}\\right)^{4/3}\n",
        "$$\n",
        "\n",
        "$$\n",
        "M_{wd}^{2/3}\\approx \\frac{8\\times 3^{1/3}3^{4/3}}{8^{4/3}\\times3\\times 4}\\frac{\\pi \\pi^{2/3}}{\\pi^{4/3}}\\frac{\\hbar c}{G m_H^{4/3}} = \\frac{ 3^{2/3}\\pi^{1/3}\\hbar c}{8^{1/3}4Gm_H^{4/3}}\n",
        "$$\n",
        "\n",
        "$$\n",
        "= \\frac{ 3^{2/3}\\pi^{1/3}\\hbar c}{8Gm_H^{4/3}}\n",
        "$$\n",
        "\n",
        "$$\n",
        "M_{wd} \\approx \\frac{3 \\pi^{1/2}(\\hbar c)^{3/2}}{8^{3/2}G^{3/2}m_H^{2}}\n",
        "$$"
      ],
      "metadata": {
        "id": "DvWGUxcWjIdO"
      }
    },
    {
      "cell_type": "code",
      "source": [
        "Mwd = (3*(np.pi**(1/2.))*(const.hbar * const.c)**(3/2))/(8**(3/2)*const.m_p*const.m_p*const.G**(3/2))\n",
        "Mwd.to(u.solMass)"
      ],
      "metadata": {
        "colab": {
          "base_uri": "https://localhost:8080/",
          "height": 57
        },
        "id": "n4sipjkPbkEr",
        "outputId": "707ac791-0501-445a-b5c6-c3eb28e0cae3"
      },
      "execution_count": 12,
      "outputs": [
        {
          "output_type": "execute_result",
          "data": {
            "text/plain": [
              "<Quantity 0.4355083 solMass>"
            ],
            "text/latex": "$0.4355083 \\; \\mathrm{M_{\\odot}}$"
          },
          "metadata": {},
          "execution_count": 12
        }
      ]
    },
    {
      "cell_type": "markdown",
      "source": [
        "This turns out to be an underestimate of the maximum mass by about three times.  The actual maximum is approximately 1.44 solar masses."
      ],
      "metadata": {
        "id": "pWojHbAzu_03"
      }
    },
    {
      "cell_type": "code",
      "source": [],
      "metadata": {
        "id": "SBUHUCryuVpp"
      },
      "execution_count": null,
      "outputs": []
    }
  ]
}