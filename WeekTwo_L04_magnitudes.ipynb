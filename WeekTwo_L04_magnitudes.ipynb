{
  "nbformat": 4,
  "nbformat_minor": 0,
  "metadata": {
    "colab": {
      "provenance": [],
      "authorship_tag": "ABX9TyNMYqoj8B6Y5eVySfCpSLb4",
      "include_colab_link": true
    },
    "kernelspec": {
      "name": "python3",
      "display_name": "Python 3"
    },
    "language_info": {
      "name": "python"
    }
  },
  "cells": [
    {
      "cell_type": "markdown",
      "metadata": {
        "id": "view-in-github",
        "colab_type": "text"
      },
      "source": [
        "<a href=\"https://colab.research.google.com/github/ramansbach/astrophysics_notebooks/blob/main/WeekTwo_L04_magnitudes.ipynb\" target=\"_parent\"><img src=\"https://colab.research.google.com/assets/colab-badge.svg\" alt=\"Open In Colab\"/></a>"
      ]
    },
    {
      "cell_type": "markdown",
      "source": [
        "## Example Problem\n",
        "\n",
        "Find (i) the luminosity of the Sun and (ii) the power received by a 10 m$^2$ solar panel for a spacecraft at Mars. Assume that $T_e = 5800$ K and $R = 6.955\\times 10^8$ m for the Sun, and that Mars is $2.25 \\times 10^{11}$ m distant from the Sun."
      ],
      "metadata": {
        "id": "IVwAtmvxYfaO"
      }
    },
    {
      "cell_type": "markdown",
      "source": [
        "$L_{sun} = 4 \\pi R_{sun}^2 \\sigma T_{sun}^4$"
      ],
      "metadata": {
        "id": "W6KwrEbbZSJn"
      }
    },
    {
      "cell_type": "code",
      "execution_count": null,
      "metadata": {
        "id": "UNQtBsLAYco1"
      },
      "outputs": [],
      "source": [
        "import numpy as np\n",
        "def SB_luminosity_Watts(R,Te):\n",
        "  \"\"\"\n",
        "  R : float, in meters\n",
        "  Te : surface temperature, in Kelvin\n",
        "  \"\"\"\n",
        "  sigma = 5.67*(10**(-8))\n",
        "  L = 4*np.pi*(R**2)*sigma*(Te**4)\n",
        "  return L"
      ]
    },
    {
      "cell_type": "code",
      "source": [
        "Lsun = SB_luminosity_Watts(6.955*(10**8),5800)"
      ],
      "metadata": {
        "id": "68WSgMQoZ8MS"
      },
      "execution_count": null,
      "outputs": []
    },
    {
      "cell_type": "code",
      "source": [
        "print(Lsun)"
      ],
      "metadata": {
        "colab": {
          "base_uri": "https://localhost:8080/"
        },
        "id": "K6ZH7pZLaDUm",
        "outputId": "262d3178-ce8a-42fd-d827-941ed88eba5b"
      },
      "execution_count": null,
      "outputs": [
        {
          "output_type": "stream",
          "name": "stdout",
          "text": [
            "3.900310353168543e+26\n"
          ]
        }
      ]
    },
    {
      "cell_type": "code",
      "source": [
        "def flux_SI(L,d):\n",
        "  \"\"\"\n",
        "  L : luminosity in watts\n",
        "  d : distance in meters\n",
        "  \"\"\"\n",
        "  F = L / (4 * np.pi * d * d)\n",
        "  return F"
      ],
      "metadata": {
        "id": "QjsPLjJCasno"
      },
      "execution_count": null,
      "outputs": []
    },
    {
      "cell_type": "code",
      "source": [
        "flux_SI(Lsun,2.25*(10**11))*10"
      ],
      "metadata": {
        "colab": {
          "base_uri": "https://localhost:8080/"
        },
        "id": "qTrx-SyDbL9M",
        "outputId": "7361c29a-6872-4212-be4d-7f411873f13a"
      },
      "execution_count": null,
      "outputs": [
        {
          "output_type": "execute_result",
          "data": {
            "text/plain": [
              "6130.90046715328"
            ]
          },
          "metadata": {},
          "execution_count": 12
        }
      ]
    },
    {
      "cell_type": "code",
      "source": [],
      "metadata": {
        "id": "vw6q5IfAbPet"
      },
      "execution_count": null,
      "outputs": []
    }
  ]
}