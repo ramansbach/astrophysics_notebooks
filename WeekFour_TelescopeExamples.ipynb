{
  "nbformat": 4,
  "nbformat_minor": 0,
  "metadata": {
    "colab": {
      "provenance": [],
      "authorship_tag": "ABX9TyN6FcAVn9KWk+6R4xFw1PUX",
      "include_colab_link": true
    },
    "kernelspec": {
      "name": "python3",
      "display_name": "Python 3"
    },
    "language_info": {
      "name": "python"
    }
  },
  "cells": [
    {
      "cell_type": "markdown",
      "metadata": {
        "id": "view-in-github",
        "colab_type": "text"
      },
      "source": [
        "<a href=\"https://colab.research.google.com/github/ramansbach/astrophysics_notebooks/blob/main/WeekFour_TelescopeExamples.ipynb\" target=\"_parent\"><img src=\"https://colab.research.google.com/assets/colab-badge.svg\" alt=\"Open In Colab\"/></a>"
      ]
    },
    {
      "cell_type": "markdown",
      "source": [
        "## Resolving Power\n",
        "\n",
        "Let's write a little function that will implement the Airy resolution limit function, which states that\n",
        "\n",
        "$$\n",
        "\\Delta \\theta = 1.22 \\frac{\\lambda}{d}\n",
        "$$\n",
        "\n",
        "All units are assumed in SI, so if we get units that are not in SI we will have to convert them before using this function."
      ],
      "metadata": {
        "id": "2vmsB7GBQGlM"
      }
    },
    {
      "cell_type": "code",
      "source": [
        "print(None)"
      ],
      "metadata": {
        "colab": {
          "base_uri": "https://localhost:8080/"
        },
        "id": "LU1DUtUbWPtt",
        "outputId": "71347fc3-6693-4899-afa4-c7f2932ccbb4"
      },
      "execution_count": null,
      "outputs": [
        {
          "output_type": "stream",
          "name": "stdout",
          "text": [
            "None\n"
          ]
        }
      ]
    },
    {
      "cell_type": "code",
      "source": [
        "x = None\n",
        "print(x is not None)"
      ],
      "metadata": {
        "colab": {
          "base_uri": "https://localhost:8080/"
        },
        "id": "ZSe-YiwaWXMb",
        "outputId": "f2efd297-dce2-4295-a99b-9951d903cbf8"
      },
      "execution_count": null,
      "outputs": [
        {
          "output_type": "stream",
          "name": "stdout",
          "text": [
            "False\n"
          ]
        }
      ]
    },
    {
      "cell_type": "code",
      "source": [
        "x = 5\n",
        "print(x is not None)"
      ],
      "metadata": {
        "colab": {
          "base_uri": "https://localhost:8080/"
        },
        "id": "cSMKPSthWdyK",
        "outputId": "4488d787-c8ec-4a83-ae79-477765fc7cb6"
      },
      "execution_count": null,
      "outputs": [
        {
          "output_type": "stream",
          "name": "stdout",
          "text": [
            "True\n"
          ]
        }
      ]
    },
    {
      "cell_type": "code",
      "source": [
        "def airy_limit_SI(dtheta, lmbda, d):\n",
        "  \"\"\"\n",
        "\n",
        "  Parameters\n",
        "  ----------\n",
        "  dtheta: float or None\n",
        "    the angular resolution in radians\n",
        "  lmbda: float or None\n",
        "    the wavelength of light in m\n",
        "  d: float or None\n",
        "    the telescope diameter\n",
        "\n",
        "  Notes\n",
        "  -----\n",
        "  This function implements the Airy resolution. If it is given three numerical\n",
        "  values, it checks to see that they obey the equation. If one of the three\n",
        "  values is None, it computes that value from the Airy resolution equation.\n",
        "  If more than one value is None, the function raises an error.\n",
        "  \"\"\"\n",
        "\n",
        "  if dtheta is None:\n",
        "    if (lmbda is None) or (d is None):\n",
        "      raise ValueError(\"Only one parameter can be None in this function\")\n",
        "    dtheta = 1.22 * lmbda / d\n",
        "\n",
        "  elif lmbda is None:\n",
        "    if (dtheta is None) or (d is None):\n",
        "      raise ValueError(\"Only one parameter can be None in this function\")\n",
        "    lmbda = dtheta * d / 1.22\n",
        "\n",
        "  elif d is None:\n",
        "    if (dtheta is None) or (lmbda is None):\n",
        "      raise ValueError(\"Only one parameter can be None in this function\")\n",
        "    d = 1.22 * lmbda / dtheta\n",
        "\n",
        "  else:\n",
        "    assert(dtheta == 1.22 * lmbda / d)\n",
        "    print(\"These values are consistent with the Airy resolution limit\")\n",
        "\n",
        "  return (dtheta, lmbda, d)"
      ],
      "metadata": {
        "id": "nIc8HRk3QZLs"
      },
      "execution_count": null,
      "outputs": []
    },
    {
      "cell_type": "markdown",
      "source": [
        "We will now consider an example.  What is the best resolution of the EHT at 1.3 mm?  Assume a maximum baseline of 12,700 km.  This tells us that the wavelength we're interested in is $\\lambda = 1.3$ mm$ = 0.0013$ m and the diameter is $d = 12,700$ km $=12,700,000$ m."
      ],
      "metadata": {
        "id": "gdvYgIRnSJVZ"
      }
    },
    {
      "cell_type": "code",
      "source": [
        "dth, lmbda, d = airy_limit_SI(None, 0.0013, 12_700_000)"
      ],
      "metadata": {
        "id": "GuBelaQnR8h3"
      },
      "execution_count": null,
      "outputs": []
    },
    {
      "cell_type": "code",
      "source": [
        "print(\"delta theta in radians is {}\".format(dth))"
      ],
      "metadata": {
        "colab": {
          "base_uri": "https://localhost:8080/"
        },
        "id": "mpNduhRspQOJ",
        "outputId": "6cf35281-8c75-4caf-92e5-f90da41af654"
      },
      "execution_count": null,
      "outputs": [
        {
          "output_type": "stream",
          "name": "stdout",
          "text": [
            "delta theta in radians is 1.2488188976377953e-10\n"
          ]
        }
      ]
    },
    {
      "cell_type": "code",
      "source": [
        "print(\"delta theta in arc seconds (206265 arc-s / rad) is {}\".format(dth*206265))"
      ],
      "metadata": {
        "colab": {
          "base_uri": "https://localhost:8080/"
        },
        "id": "bQsSxIWSpQ_H",
        "outputId": "532a4c43-622f-42e4-9fc7-1a44bae09a41"
      },
      "execution_count": null,
      "outputs": [
        {
          "output_type": "stream",
          "name": "stdout",
          "text": [
            "delta theta in arc seconds (206265 arc-s / rad) is 2.5758762992125985e-05\n"
          ]
        }
      ]
    },
    {
      "cell_type": "markdown",
      "source": [
        "Or about 26 micro-arc seconds.\n",
        "\n",
        "Let's see what happens if we try the other combinations of inputs."
      ],
      "metadata": {
        "id": "IVgG-MIPpgkh"
      }
    },
    {
      "cell_type": "code",
      "source": [
        "airy_limit_SI(1.2488e-10,None,12_700_000)"
      ],
      "metadata": {
        "colab": {
          "base_uri": "https://localhost:8080/"
        },
        "id": "7t1-9ibupjZD",
        "outputId": "314bcec8-c847-46b5-d83a-816d79e216c1"
      },
      "execution_count": null,
      "outputs": [
        {
          "output_type": "execute_result",
          "data": {
            "text/plain": [
              "(1.2488e-10, 0.0012999803278688526, 12700000)"
            ]
          },
          "metadata": {},
          "execution_count": 10
        }
      ]
    },
    {
      "cell_type": "code",
      "source": [
        "airy_limit_SI(1.2488e-10,0.0013,None)"
      ],
      "metadata": {
        "colab": {
          "base_uri": "https://localhost:8080/"
        },
        "id": "9lzVzO8jpxpW",
        "outputId": "bf4f676a-62d6-4623-840a-ef0c0ebab87a"
      },
      "execution_count": null,
      "outputs": [
        {
          "output_type": "execute_result",
          "data": {
            "text/plain": [
              "(1.2488e-10, 0.0013, 12700192.184497116)"
            ]
          },
          "metadata": {},
          "execution_count": 11
        }
      ]
    },
    {
      "cell_type": "code",
      "source": [
        "airy_limit_SI(1.2488e-10,0.0013,12_700_000)"
      ],
      "metadata": {
        "colab": {
          "base_uri": "https://localhost:8080/",
          "height": 258
        },
        "id": "ErwCV9OWp41S",
        "outputId": "72795353-92db-43ed-f6c9-2855a5b38f4e"
      },
      "execution_count": null,
      "outputs": [
        {
          "output_type": "error",
          "ename": "AssertionError",
          "evalue": "",
          "traceback": [
            "\u001b[0;31m---------------------------------------------------------------------------\u001b[0m",
            "\u001b[0;31mAssertionError\u001b[0m                            Traceback (most recent call last)",
            "\u001b[0;32m<ipython-input-12-6ca1f373b4d3>\u001b[0m in \u001b[0;36m<cell line: 1>\u001b[0;34m()\u001b[0m\n\u001b[0;32m----> 1\u001b[0;31m \u001b[0mairy_limit_SI\u001b[0m\u001b[0;34m(\u001b[0m\u001b[0;36m1.2488e-10\u001b[0m\u001b[0;34m,\u001b[0m\u001b[0;36m0.0013\u001b[0m\u001b[0;34m,\u001b[0m\u001b[0;36m12_700_000\u001b[0m\u001b[0;34m)\u001b[0m\u001b[0;34m\u001b[0m\u001b[0;34m\u001b[0m\u001b[0m\n\u001b[0m",
            "\u001b[0;32m<ipython-input-6-270a8416662e>\u001b[0m in \u001b[0;36mairy_limit_SI\u001b[0;34m(dtheta, lmbda, d)\u001b[0m\n\u001b[1;32m     35\u001b[0m \u001b[0;34m\u001b[0m\u001b[0m\n\u001b[1;32m     36\u001b[0m   \u001b[0;32melse\u001b[0m\u001b[0;34m:\u001b[0m\u001b[0;34m\u001b[0m\u001b[0;34m\u001b[0m\u001b[0m\n\u001b[0;32m---> 37\u001b[0;31m     \u001b[0;32massert\u001b[0m\u001b[0;34m(\u001b[0m\u001b[0mdtheta\u001b[0m \u001b[0;34m==\u001b[0m \u001b[0;36m1.22\u001b[0m \u001b[0;34m*\u001b[0m \u001b[0mlmbda\u001b[0m \u001b[0;34m/\u001b[0m \u001b[0md\u001b[0m\u001b[0;34m)\u001b[0m\u001b[0;34m\u001b[0m\u001b[0;34m\u001b[0m\u001b[0m\n\u001b[0m\u001b[1;32m     38\u001b[0m     \u001b[0mprint\u001b[0m\u001b[0;34m(\u001b[0m\u001b[0;34m\"These values are consistent with the Airy resolution limit\"\u001b[0m\u001b[0;34m)\u001b[0m\u001b[0;34m\u001b[0m\u001b[0;34m\u001b[0m\u001b[0m\n\u001b[1;32m     39\u001b[0m \u001b[0;34m\u001b[0m\u001b[0m\n",
            "\u001b[0;31mAssertionError\u001b[0m: "
          ]
        }
      ]
    },
    {
      "cell_type": "markdown",
      "source": [
        "What's gone wrong here?  The answer is in how the \"assert\" statement works.  It doesn't take into account significant figures, so your values must be exactly equal out to machine precision!  That's not very helpful for something like this, so we'll modify the function a little."
      ],
      "metadata": {
        "id": "Flzxwr_zp_Yu"
      }
    },
    {
      "cell_type": "code",
      "source": [
        "import numpy.testing as npt\n",
        "\n",
        "def airy_limit_SI_sigfigs(dtheta, lmbda, d, sigfigs = 7):\n",
        "  \"\"\"\n",
        "\n",
        "  Parameters\n",
        "  ----------\n",
        "  dtheta: float or None\n",
        "    the angular resolution in radians\n",
        "  lmbda: float or None\n",
        "    the wavelength of light in m\n",
        "  d: float or None\n",
        "    the telescope diameter\n",
        "\n",
        "  Notes\n",
        "  -----\n",
        "  This function implements the Airy resolution. If it is given three numerical\n",
        "  values, it checks to see that they obey the equation. If one of the three\n",
        "  values is None, it computes that value from the Airy resolution equation.\n",
        "  If more than one value is None, the function raises an error.\n",
        "  \"\"\"\n",
        "\n",
        "  if dtheta is None:\n",
        "    if (lmbda is None) or (d is None):\n",
        "      raise ValueError(\"Only one parameter can be None in this function\")\n",
        "    dtheta = 1.22 * lmbda / d\n",
        "\n",
        "  elif lmbda is None:\n",
        "    if (dtheta is None) or (d is None):\n",
        "      raise ValueError(\"Only one parameter can be None in this function\")\n",
        "    lmbda = dtheta * d / 1.22\n",
        "\n",
        "  elif d is None:\n",
        "    if (dtheta is None) or (lmbda is None):\n",
        "      raise ValueError(\"Only one parameter can be None in this function\")\n",
        "    d = 1.22 * lmbda / dtheta\n",
        "\n",
        "  else:\n",
        "    npt.assert_almost_equal(dtheta, 1.22 * lmbda / d, decimal = sigfigs )\n",
        "    print(\"These values are consistent with the Airy resolution limit to {} decimal points\".format(sigfigs))\n",
        "\n",
        "  return (dtheta, lmbda, d)"
      ],
      "metadata": {
        "id": "A5HgB1upp76b"
      },
      "execution_count": null,
      "outputs": []
    },
    {
      "cell_type": "code",
      "source": [
        "airy_limit_SI_sigfigs(1.2488e-10,0.0013,12_700_000)"
      ],
      "metadata": {
        "colab": {
          "base_uri": "https://localhost:8080/"
        },
        "id": "Nwq_gM1aqlng",
        "outputId": "27db0162-1eb4-4754-b042-eb3387188f71"
      },
      "execution_count": null,
      "outputs": [
        {
          "output_type": "stream",
          "name": "stdout",
          "text": [
            "These values are consistent with the Airy resolution limit to 7 decimal points\n"
          ]
        },
        {
          "output_type": "execute_result",
          "data": {
            "text/plain": [
              "(1.2488e-10, 0.0013, 12700000)"
            ]
          },
          "metadata": {},
          "execution_count": 14
        }
      ]
    },
    {
      "cell_type": "code",
      "source": [
        "airy_limit_SI_sigfigs(1.2488e-10,0.0013,12_700_000,sigfigs=12)"
      ],
      "metadata": {
        "id": "PANlkfovqq0I",
        "colab": {
          "base_uri": "https://localhost:8080/"
        },
        "outputId": "9560c38f-bca8-4e2b-d3fa-24e5a4b20fed"
      },
      "execution_count": null,
      "outputs": [
        {
          "output_type": "stream",
          "name": "stdout",
          "text": [
            "These values are consistent with the Airy resolution limit to 12 decimal points\n"
          ]
        },
        {
          "output_type": "execute_result",
          "data": {
            "text/plain": [
              "(1.2488e-10, 0.0013, 12700000)"
            ]
          },
          "metadata": {},
          "execution_count": 21
        }
      ]
    },
    {
      "cell_type": "code",
      "source": [],
      "metadata": {
        "id": "6n1mGv_EYZYI"
      },
      "execution_count": null,
      "outputs": []
    }
  ]
}