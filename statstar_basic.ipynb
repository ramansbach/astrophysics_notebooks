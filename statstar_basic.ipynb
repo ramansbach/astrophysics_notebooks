{
  "nbformat": 4,
  "nbformat_minor": 0,
  "metadata": {
    "colab": {
      "provenance": [],
      "authorship_tag": "ABX9TyOn80ckppjVCpDqZiiJfIsK",
      "include_colab_link": true
    },
    "kernelspec": {
      "name": "python3",
      "display_name": "Python 3"
    },
    "language_info": {
      "name": "python"
    }
  },
  "cells": [
    {
      "cell_type": "markdown",
      "metadata": {
        "id": "view-in-github",
        "colab_type": "text"
      },
      "source": [
        "<a href=\"https://colab.research.google.com/github/ramansbach/astrophysics_notebooks/blob/main/statstar_basic.ipynb\" target=\"_parent\"><img src=\"https://colab.research.google.com/assets/colab-badge.svg\" alt=\"Open In Colab\"/></a>"
      ]
    },
    {
      "cell_type": "code",
      "execution_count": null,
      "metadata": {
        "id": "HT9KscEWZj4l"
      },
      "outputs": [],
      "source": [
        "import numpy as np\n",
        "import pandas as pd\n",
        "import matplotlib.pyplot as plt"
      ]
    },
    {
      "cell_type": "markdown",
      "source": [
        "# Introduction\n",
        "## From code comments\n",
        "This program is a Python version of the code STATSTAR written in FORTRAN and described in Carroll and Ostlie.  Program has been modified and converted to Python in Fall 2010 by Prof. D. Schiminovich at Columbia University\n",
        "for use in C3101 Stellar Structure and Evolution\n",
        "\n",
        "Program has been further modified and uploaded to Google Colabs by Prof. R.A. Mansbach at Concordia University for use in PHYS385 Astrophysics\n",
        "\n",
        "Notes from FORTRAN code:\n",
        "\n",
        "This program is listed in Appendix H of both \"An Introduction to Modern Astrophysics,\" Bradley W. Carroll and Dale A. Ostlie, Addison-Wesley Publishing Company, copyright 1996, and \"An Introduction to Modern Stellar Astrophysics,\" Dale A. Ostlie and Bradley W. Carroll, Addison-Wesley Publishing Company, copyright 1996.\n",
        "\n",
        "This program will calculate a static stellar model using the equations developed in the text.  The user is expected to supply the star's mass, luminosity, effective temperature, and composition (X and Z).  If the choices for these quantities are not consistent with the central boundary conditions, an error message will be generated and the user will then need to supply a different set of initial values."
      ],
      "metadata": {
        "id": "JJmFlEzkafxE"
      }
    },
    {
      "cell_type": "markdown",
      "source": [
        "# Subroutines"
      ],
      "metadata": {
        "id": "MJ_5YbzhZ77m"
      }
    },
    {
      "cell_type": "markdown",
      "source": [
        "## STARTMDL\n",
        "Subroutine `STARTMDL` computes values of `M_r`, `L_r`, `P`, and `T`, near the\n",
        "surface of the star using expansions of the stellar structure\n",
        "equations (`M_r` and `L_r` are assumed to be constant)."
      ],
      "metadata": {
        "id": "TokvfWzvaE7p"
      }
    },
    {
      "cell_type": "code",
      "source": [
        "def STARTMDL(deltar, X, Z, mu, Rs, r_i, M_ri, L_ri, tog_bf,irc,cst):\n",
        "#\n",
        "#     X = hydrogen mass fraction\n",
        "#     Z = metal mass fraction\n",
        "#     mu = mean molecular weight\n",
        "#     Rs = radius of star\n",
        "#     r_i = radius of shell\n",
        "#     M_ri = mass enclosed within shell at this radius\n",
        "#          (assumed constant at start of model)\n",
        "#     L_ri = enclosed luminosity, assumed constant\n",
        "#\n",
        "      r = r_i + deltar\n",
        "      M_rip1 = M_ri\n",
        "      L_rip1 = L_ri\n",
        "#\n",
        "#  This is the radiative approximation (neglect radiation pressure\n",
        "#  and electron scattering opacity)# see Prialnik Eq. 5.1, 5.3 and Sec. 3.7 or C&O Eqs. (H.1), (H.2), (9.19),\n",
        "#  and (9.20).\n",
        "#\n",
        "      if (irc == 0):\n",
        "          T_ip1 = cst.G*M_rip1*mu*cst.m_H/(4.25e0*cst.k_B)*(1.0e0/r - 1.0e0/Rs)\n",
        "          A_bf = 4.34e25*Z*(1.0e0 + X)/tog_bf\n",
        "          A_ff = 3.68e22*cst.g_ff*(1.0e0 - Z)*(1.0e0 + X)\n",
        "          Afac = A_bf + A_ff\n",
        "          P_ip1 = np.sqrt((1.0e0/4.25e0)*(16.0e0/3.0e0*np.pi*cst.a*cst.c)*(cst.G*M_rip1/L_rip1)*(cst.k_B/(Afac*mu*cst.m_H)))*T_ip1**4.25e0\n",
        "\n",
        "#\n",
        "#  This is the convective approximation# see Prialnik Sec 6.5, 6.6 or C&O Eqs. (H.3) and (10.75).\n",
        "#\n",
        "      else:\n",
        "          T_ip1 = cst.G*M_rip1*mu*cst.m_H/cst.k_B*(1.0e0/r - 1.0e0/Rs)/cst.gamrat\n",
        "          P_ip1 = cst.kPad*T_ip1**cst.gamrat\n",
        "\n",
        "      return r,P_ip1, M_rip1, L_rip1, T_ip1\n"
      ],
      "metadata": {
        "id": "ASx--TScZ-iu"
      },
      "execution_count": null,
      "outputs": []
    },
    {
      "cell_type": "markdown",
      "source": [
        "## Subroutine EOS\n",
        "Subroutine EOS calculates the values of density, opacity, the guillotine-to-gaunt factor ratio, and the energy generation rate at the radius `r`."
      ],
      "metadata": {
        "id": "zaqTUhCWaOz5"
      }
    },
    {
      "cell_type": "code",
      "source": [
        "def EOS(X, Z, XCNO, mu, P, T,izone,cst):\n",
        "\n",
        "#\n",
        "#  Solve for density from the ideal gas law (remove radiation pressure)#\n",
        "#  see Prialnik Eq. 5.5 or C&O Eq. (10.26).\n",
        "#\n",
        "      if ((T < 0.0e0) or (P < 0.0e0)):\n",
        "          print(' Something is a little wrong here.')\n",
        "          print(' You are asking me to deal with either a negative temperature')\n",
        "          print(' or a negative pressure.  I am sorry but that is not in my')\n",
        "          print(' contract! You will have to try again with different')\n",
        "          print(' initial conditions.')\n",
        "          print(' In case it helps, I detected the problem in zone ',izone)\n",
        "          print(' with the following conditions:')\n",
        "          print('T = ',T,' K')\n",
        "          print('P = ',P,' dynes/cm**2')\n",
        "          return (0.0, 0.0, 0.0,0.0,1)\n",
        "\n",
        "\n",
        "      Prad = cst.a*T**4/3.0e0\n",
        "      Pgas = P - Prad\n",
        "      rho=(mu*cst.m_H/cst.k_B)*(Pgas/T)\n",
        "      if (rho < 0.0e0):\n",
        "          print(' I am sorry, but a negative density was detected.')\n",
        "          print(' my equation-of-state routine is a bit baffled by this new')\n",
        "          print(' physical system you have created.  The radiation pressure')\n",
        "          print(' is probably too great, implying that the star is unstable.')\n",
        "          print(' Please try something a little less radical next time.')\n",
        "          print(' In case it helps, I detected the problem in zone ')\n",
        "          print(' with the following conditions:')\n",
        "          print('T       = {0:12.5E} K'.format(T))\n",
        "          print('P_total = {0:12.5E} dynes/cm**2'.format(P))\n",
        "          print('P_rad   = {0:12.5E} dynes/cm**2'.format(Prad))\n",
        "          print('P_gas   = {0:12.5E} dynes/cm**2'.format(Pgas))\n",
        "          print('rho     = {0:12.5E} g/cm**3'.format(rho))\n",
        "          return (rho, 0.0 , 0.0 ,0.0,1)\n",
        "\n",
        "#\n",
        "#  Calculate opacity, including the guillotine-to-gaunt factor ratio#\n",
        "#  see Novotny (1973), p. 469. k_bf, k_ff, and k_e are the bound-free,\n",
        "#  free-free, and electron scattering opacities, given by Prialnik Sec 3.7 or C&O Eqs. (9.19),\n",
        "#  (9.20), and (9.21), respectively.\n",
        "#\n",
        "\n",
        "      tog_bf = 2.82e0*(rho*(1.0e0 + X))**0.2e0\n",
        "      k_bf = 4.34e25/tog_bf*Z*(1.0e0 + X)*rho/T**3.5e0\n",
        "      k_ff = 3.68e22*cst.g_ff*(1.0e0 - Z)*(1.0e0 + X)*rho/T**3.5e0\n",
        "      k_e = 0.2e0*(1.0e0 + X)\n",
        "      kappa = k_bf + k_ff + k_e\n",
        "#\n",
        "#  Compute energy generation by the pp chain and the CNO cycle.  These\n",
        "#  are calculated using Eqs. (10.49) and (10.53) Prialnik Eq. 4.6, 4.7 + screening factor, which come from\n",
        "#  Fowler, Caughlan, and Zimmerman (1975). The screening factor for the\n",
        "#  pp chain is calculated as fpp# see Clayton (1968), p. 359ff.\n",
        "#\n",
        "#     Calculate 1/3 and 2/3 for convenience\n",
        "      oneo3=0.333333333e0\n",
        "      twoo3=0.666666667e0\n",
        "\n",
        "      T6 = T*1.0e-06\n",
        "      fx = 0.133e0*X*np.sqrt((3.0e0 + X)*rho)/T6**1.5e0\n",
        "      fpp = 1.0e0 + fx*X\n",
        "      psipp = 1.0e0 + 1.412e8*(1.0e0/X - 1.0e0)*np.exp(-49.98*T6**((-1.0)*oneo3))\n",
        "      Cpp = 1.0e0 + 0.0123e0*T6**oneo3 + 0.0109e0*T6**twoo3 + 0.000938e0*T6\n",
        "      epspp = 2.38e6*rho*X*X*fpp*psipp*Cpp*T6**(-twoo3)*np.exp(-33.80e0*T6**(-oneo3))\n",
        "      CCNO = 1.0e0 + 0.0027e0*T6**oneo3 - 0.00778e0*T6**twoo3- 0.000149e0*T6\n",
        "      epsCNO = 8.67e27*rho*X*XCNO*CCNO*T6**(-twoo3)*np.exp(-152.28e0*T6**(-oneo3))\n",
        "      epslon = epspp + epsCNO\n",
        "\n",
        "      return (rho, kappa, epslon,tog_bf,0)"
      ],
      "metadata": {
        "id": "Se9fuA8raNYY"
      },
      "execution_count": null,
      "outputs": []
    },
    {
      "cell_type": "markdown",
      "source": [
        "## Gradient Subroutines\n",
        "The following four functions calculate the gradients of pressure, (`dPdr`), mass (`dMdr`), luminosity (`dLdr`), and temperature (`dTdr`) at a radius `r`."
      ],
      "metadata": {
        "id": "7lKf6M-ebxqJ"
      }
    },
    {
      "cell_type": "code",
      "source": [
        "def dPdr(r, M_r, rho,cst):\n",
        "      return -cst.G*rho*M_r/r**2\n",
        "\n",
        "def dMdr(r, rho, cst):\n",
        "      return (4.0e0*np.pi*rho*r**2)\n",
        "\n",
        "def dLdr(r, rho, epslon,cst):\n",
        "      return (4.0e0*np.pi*rho*epslon*r**2)\n",
        "\n",
        "def dTdr(r, M_r, L_r, T, rho, kappa, mu, irc,cst):\n",
        "      if (irc == 0):\n",
        "          return (-(3.0e0/(16.0e0*np.pi*cst.a*cst.c))*kappa*rho/T**3*L_r/r**2)\n",
        "#  This is the adiabatic convective temperature gradient (Prialnik Eq. 6.29 or\n",
        "#  C&O Eq. 10.81).\n",
        "      else:\n",
        "          return (-1.0e0/cst.gamrat*cst.G*M_r/r**2*mu*cst.m_H/cst.k_B)\n"
      ],
      "metadata": {
        "id": "IjO8G0umbxPe"
      },
      "execution_count": null,
      "outputs": []
    },
    {
      "cell_type": "markdown",
      "source": [
        "## Numerical Integration Subroutines"
      ],
      "metadata": {
        "id": "hvcD8B2xcbeO"
      }
    },
    {
      "cell_type": "code",
      "source": [
        "#\n",
        "# Runge-kutta algorithm\n",
        "#\n",
        "def RUNGE(f_im1, dfdr, r_im1, deltar, irc, X, Z, XCNO,mu, izone,cst):\n",
        "\n",
        "      f_temp=np.zeros(4)\n",
        "      f_i=np.zeros(4)\n",
        "\n",
        "      dr12 = deltar/2.0e0\n",
        "      dr16 = deltar/6.0e0\n",
        "      r12  = r_im1 + dr12\n",
        "      r_i  = r_im1 + deltar\n",
        "#\n",
        "#  Calculate intermediate derivatives from the four fundamental stellar\n",
        "#  structure equations found in Subroutine FUNDEQ.\n",
        "#\n",
        "      for i in range(0,4):\n",
        "          f_temp[i] = f_im1[i] + dr12*dfdr[i]\n",
        "\n",
        "      df1, ierr = FUNDEQ(r12, f_temp, irc, X, Z, XCNO, mu, izone,cst)\n",
        "      if (ierr != 0):\n",
        "          return f_i,ierr\n",
        "#\n",
        "\n",
        "      for i in range(0,4):\n",
        "          f_temp[i] = f_im1[i] + dr12*df1[i]\n",
        "\n",
        "      df2,ierr = FUNDEQ(r12, f_temp, irc, X, Z, XCNO, mu, izone,cst)\n",
        "      if (ierr != 0):\n",
        "          return f_i,ierr\n",
        "\n",
        "#\n",
        "      for i in range(0,4):\n",
        "          f_temp[i] = f_im1[i] + deltar*df2[i]\n",
        "\n",
        "      df3,ierr=FUNDEQ(r_i, f_temp, irc, X, Z, XCNO, mu, izone,cst)\n",
        "      if (ierr != 0):\n",
        "          return f_i,ierr\n",
        "#\n",
        "#  Calculate the variables at the next shell (i + 1).\n",
        "#\n",
        "      for i in range(0,4):\n",
        "          f_i[i] = f_im1[i] + dr16*(dfdr[i] + 2.0e0*df1[i] + 2.0e0*df2[i] + df3[i])\n",
        "\n",
        "      return f_i,0\n"
      ],
      "metadata": {
        "id": "b76ESKkHbO16"
      },
      "execution_count": null,
      "outputs": []
    },
    {
      "cell_type": "markdown",
      "source": [
        "## Fundamental equations\n",
        "The following subroutine returns the required derviates for `RUNGE`, the Runge-Kutta integration routine."
      ],
      "metadata": {
        "id": "_kaKZ5uecngj"
      }
    },
    {
      "cell_type": "code",
      "source": [
        "def FUNDEQ(r,f,irc,X,Z,XCNO,mu,izone,cst):\n",
        "\n",
        "      dfdr=np.zeros(4)\n",
        "      P   = f[0]\n",
        "      M_r = f[1]\n",
        "      L_r = f[2]\n",
        "      T   = f[3]\n",
        "      rho,kappa,epslon,tog_bf,ierr = EOS(X, Z, XCNO, mu, P, T, izone,cst)\n",
        "      dfdr[0] = dPdr(r, M_r, rho,cst)\n",
        "      dfdr[1] = dMdr(r, rho,cst)\n",
        "      dfdr[2] = dLdr(r, rho, epslon,cst)\n",
        "      dfdr[3] = dTdr(r, M_r, L_r, T, rho, kappa, mu, irc,cst)\n",
        "      return (dfdr,ierr)\n"
      ],
      "metadata": {
        "id": "A3gG1yLKcmgF"
      },
      "execution_count": null,
      "outputs": []
    },
    {
      "cell_type": "markdown",
      "source": [
        "## Main Program\n",
        "\n",
        "Main program for calculating stellar structure\n",
        "\n",
        "### Variables, run-time parameters and settings:\n",
        "\n",
        "```\n",
        "#  deltar = radius integration step\n",
        "#  idrflg = set size flag\n",
        "#         = 0 (initial surface step size of Rs/1000.)\n",
        "#         = 1 (standard step size of Rs/100.)\n",
        "#         = 2 (core step size of Rs/5000.)\n",
        "#  \n",
        "#  Nstart = number of steps for which starting equations are to be used\n",
        "#           (the outermost zone is assumed to be radiative)\n",
        "#  Nstop = maximum number of allowed zones in the star\n",
        "#  Igoof = final model condition flag\n",
        "#        = -1 (number of zones exceeded; also the initial value)\n",
        "#        =  0 (good model)\n",
        "#        =  1 (core density was extreme)\n",
        "#        =  2 (core luminosity was extreme)\n",
        "#        =  3 (extrapolated core temperature is too low)\n",
        "#        =  4 (mass became negative before center was reached)\n",
        "#        =  5 (luminosity became negative before center was reached)\n",
        "#  X, Y, Z = mass fractions of hydrogen, helium, and metals\n",
        "#  T0, P0 = surface temperature and pressure (T0 = P0 = 0 is assumed)\n",
        "#  Ms, Ls, Rs = mass, luminosity, and radius of the star (cgs units)\n",
        "\n",
        "```"
      ],
      "metadata": {
        "id": "cccBO4phcznq"
      }
    },
    {
      "cell_type": "code",
      "source": [
        "def StatStar(Msolar,Lsolar,Te,X,Z):\n",
        "      nsh=999   # maximum number of shells\n",
        "\n",
        "      # initialize r, P, M_r, L_r, T, rho, kappa, epslon, dlPdlT to\n",
        "      # an array with nsh elements\n",
        "\n",
        "      r=np.zeros(nsh,float)\n",
        "      P=np.zeros(nsh,float)\n",
        "      M_r=np.zeros(nsh,float)\n",
        "      L_r=np.zeros(nsh,float)\n",
        "      T=np.zeros(nsh,float)\n",
        "      rho=np.zeros(nsh,float)\n",
        "      kappa=np.zeros(nsh,float)\n",
        "      epslon=np.zeros(nsh,float)\n",
        "      tog_bf=np.zeros(nsh,float)\n",
        "      dlPdlT=np.zeros(nsh,float)\n",
        "\n",
        "      # initialize other variables\n",
        "\n",
        "      deltar=0.0\n",
        "      XCNO=0.0\n",
        "      mu=0.0\n",
        "      Ms=0.0\n",
        "      Ls=0.0\n",
        "      Rs=0.0\n",
        "      T0=0.0\n",
        "      P0=0.0\n",
        "      Pcore=0.0\n",
        "      Tcore=0.0\n",
        "      rhocor=0.0\n",
        "      epscor=0.0\n",
        "      rhomax=0.0\n",
        "      Rsolar=0.0\n",
        "\n",
        "      Y=1.0-(X+Z)\n",
        "\n",
        "\n",
        "      #     tog_bf = bound-free opacity constant\n",
        "      #             (ratio of guillotine to gaunt factors)\n",
        "      tog_bf0=0.01\n",
        "\n",
        "\n",
        "      # initialize variables used for 4 structure equation derivatives\n",
        "\n",
        "      f_im1=np.zeros(4,float)\n",
        "      dfdr=np.zeros(4,float)\n",
        "      f_i=np.zeros(4,float)\n",
        "\n",
        "\n",
        "      # Various run time parameters\n",
        "\n",
        "      Nstart=10\n",
        "      Nstop=999\n",
        "      Igoof=-1\n",
        "      ierr=0\n",
        "      P0=0.0\n",
        "      T0=0.0\n",
        "      dlPlim=99.9\n",
        "      debug=0\n",
        "\n",
        "      #\n",
        "      #  Assign values to constants (cgs units)\n",
        "      #     Rsun = radius of the Sun\n",
        "      #     Msun = mass of the Sun\n",
        "      #     Lsun = luminosity of the Sun\n",
        "      #     sigma = Stefan-Boltzmann constant\n",
        "      #     c = speed of light in vacuum\n",
        "      #     a = 4*sigma/c (radiation pressure constant)\n",
        "      #     G = universal gravitational constant\n",
        "      #     K_B = Boltzmann constant\n",
        "      #     m_H = mass of hydrogen atom\n",
        "      #     gamma = 5/3 (adiabatic gamma for a monatomic gas)\n",
        "      #     gamrat = gamma/(gamma-1)\n",
        "      #     kPad = P/T**(gamma/(gamma-1)) (adiabatic gas law constant)\n",
        "      #     g_ff = free-free opacity gaunt factor (assumed to be unity)\n",
        "      #\n",
        "\n",
        "      Rsun=6.9599e10\n",
        "      Msun=1.989e33\n",
        "      Lsun=3.826e33\n",
        "\n",
        "      # For convenience we will store most constants in a single variable\n",
        "\n",
        "      class Constants:\n",
        "           pass\n",
        "      cst = Constants()\n",
        "\n",
        "      cst.sigma=5.67051e-5\n",
        "      cst.c=2.99792458e10\n",
        "      cst.a=7.56591e-15\n",
        "      cst.G=6.67259e-8\n",
        "      cst.k_B=1.380658e-16\n",
        "      cst.m_H=1.673534e-24\n",
        "      cst.gamma= 5.0e0/3\n",
        "      cst.g_ff= 1.0e0\n",
        "\n",
        "#\n",
        "#  Select the mass fraction CNO to be 50% of Z.\n",
        "#\n",
        "      XCNO = Z/2.0e0\n",
        "#\n",
        "#  Calculate the mass, luminosity, and radius of the star.\n",
        "#  The radius is calculated from Prialnik Eq. 1.3 (C&O Eq. 3.17).\n",
        "#\n",
        "      Ms = Msolar*Msun\n",
        "      Ls = Lsolar*Lsun\n",
        "      Rs = np.sqrt(Ls/(4.e0*np.pi*cst.sigma))/Te**2\n",
        "      Rsolar = Rs/Rsun\n",
        "#\n",
        "#  Begin with a very small step size since surface conditions vary\n",
        "#  rapidly.\n",
        "#\n",
        "      deltar = -Rs/1000.0e0\n",
        "      idrflg = 0\n",
        "#\n",
        "#  Calculate mean molecular weight mu assuming complete ionization\n",
        "#  (see Prialnik Eq. 3.18, 3.25 or C&O Eq. 10.21).\n",
        "#\n",
        "      mu = 1.0e0/(2.0*X + 0.75*Y + 0.5*Z)\n",
        "#\n",
        "#  Calculate the delimiter between adiabatic convection and radiation\n",
        "#  (see Prialnik Eq. 6.28 or C&O Eq. 10.87).\n",
        "#\n",
        "      cst.gamrat = cst.gamma/(cst.gamma - 1.0e0)\n",
        "#\n",
        "#  Initialize values of r, P, M_r, L_r, T, rho, kappa, and epslon at\n",
        "#  the surface.  The outermost zone is assumed to be zone 1.  The zone\n",
        "#  number increases toward the center.\n",
        "#\n",
        "\n",
        "      initsh=0\n",
        "      r[initsh]   = Rs\n",
        "      M_r[initsh] = Ms\n",
        "      L_r[initsh] = Ls\n",
        "      T[initsh]   = T0\n",
        "      P[initsh]   = P0\n",
        "      tog_bf[initsh]   = tog_bf0\n",
        "\n",
        "\n",
        "      if (P0 <= 0.0) or (T0 <= 0.0):\n",
        "          rho[initsh]    = 0.0\n",
        "          kappa[initsh]  = 0.0\n",
        "          epslon[initsh] = 0.0\n",
        "          tog_bf[initsh] = 0.01\n",
        "      else:\n",
        "          rho[initsh],kappa[initsh],epslon[initsh],tog_bf[initsh],ierr=EOS(X, Z,\n",
        "                                                                           XCNO,\n",
        "                                                                           mu,\n",
        "                                                  P[initsh], T[initsh], 0 ,cst)\n",
        "          if ierr != 0:\n",
        "              print(\"we're stopping now\")\n",
        "              istop=0\n",
        "\n",
        "#\n",
        "#  Apply approximate surface solutions to begin the integration,\n",
        "#  assuming radiation transport in the outermost zone (the do 20 loop).\n",
        "#  irc = 0 for radiation, irc = 1 for convection.\n",
        "#  Assume arbitrary initial values for kPad, and dlPdlT.\n",
        "#  dlPdlT = dlnP/dlnT (see Prialnik Eq. 6.28 or C&O Eq. 10.87)\n",
        "#\n",
        "      cst.kPad = 0.3e0\n",
        "      irc = 0\n",
        "      dlPdlT[initsh] = 4.25e0\n",
        "      for i in range(0,Nstart):\n",
        "          ip1 = i + 1\n",
        "          r[ip1],P[ip1],M_r[ip1],L_r[ip1],T[ip1]=STARTMDL(deltar, X, Z, mu, Rs,\n",
        "                                                          r[i], M_r[i], L_r[i],\n",
        "                                                          tog_bf[i], irc,cst)\n",
        "          rho[ip1],kappa[ip1],epslon[ip1],tog_bf[ip1],ierr=EOS(X, Z, XCNO, mu,\n",
        "                                                               P[ip1], T[ip1],\n",
        "                                                               ip1 ,cst)\n",
        "\n",
        "          if ierr != 0:\n",
        "              print('Values from the previous zone are:')\n",
        "              print('r/Rs      = {0:12.5E}'.format(r[i]/Rs))\n",
        "              print('rho       = {0:12.5E}  g/cm**3'.format(rho[i]))\n",
        "              print('M_r/Ms    = {0:12.5E}'.format(M_r[i]/Ms))\n",
        "              print('kappa     = {0:12.5E}  cm**2/g'.format(kappa[i]))\n",
        "              print('T         = {0:12.5E}  K'.format(T[i]))\n",
        "              print('epsilon   = {0:12.5E}  ergs/g/s'.format(epslon[i]))\n",
        "              print('P         = {0:12.5E}  dynes/cm**2'.format(P[i]))\n",
        "              print('L_r/Ls    = {0:12.5E}'.format(L_r[i]/Ls))\n",
        "              break\n",
        "#\n",
        "#  Determine whether convection will be operating in the next zone by\n",
        "#  calculating dlnP/dlnT numerically between zones i and i+1 [ip1].\n",
        "#  Update the adiabatic gas constant if necessary.\n",
        "#\n",
        "          if (i > initsh):\n",
        "              dlPdlT[ip1] = np.log(P[ip1]/P[i])/np.log(T[ip1]/T[i])\n",
        "          else:\n",
        "              dlPdlT[ip1] = dlPdlT[i]\n",
        "\n",
        "          if (dlPdlT[ip1] < cst.gamrat):\n",
        "              irc = 1\n",
        "          else:\n",
        "              irc = 0\n",
        "              cst.kPad = P[ip1]/T[ip1]**cst.gamrat\n",
        "\n",
        "#\n",
        "#  Test to see whether the surface assumption of constant mass is still\n",
        "#  valid.\n",
        "#\n",
        "          deltaM = deltar*dMdr(r[ip1], rho[ip1],cst)\n",
        "          M_r[ip1] = M_r[i] + deltaM\n",
        "          if (np.abs(deltaM) > (0.001e0*Ms)):\n",
        "              if (ip1 > 1):\n",
        "                  ip1 = ip1 - 1\n",
        "                  print(' The variation in mass has become larger than 0.001*Ms')\n",
        "                  print(' leaving the approximation loop before Nstart was reached')\n",
        "                  break\n",
        "#\n",
        "#\n",
        "#  =============  MAIN LOOP ==========================\n",
        "#\n",
        "#  This is the main integration loop.  The assumptions of constant\n",
        "#  interior mass and luminosity are no longer applied.\n",
        "#\n",
        "#  Initialize the Runge-Kutta routine by specifying zone i-1 quantities\n",
        "#  and their derivatives.  Note that the pressure, mass, luminosity,\n",
        "#  and temperature are stored in the memory locations f_im1(1),\n",
        "#  f_im1(2), f_im1(3), and f_im1(4), respectively.  The derivatives of\n",
        "#  those quantities with respect to radius are stored in dfdr(1),\n",
        "#  dfdr(2), dfdr(3), and dfdr(4).  Finally, the resulting values for\n",
        "#  P, M_r, L_r, and T are returned from the Runge-Kutta routine in\n",
        "#  f_i(1), f_i(2), f_i(3), and f_i(4), respectively.\n",
        "#\n",
        "#  The stellar structure equations\n",
        "#           dPdr (Prialnik 5.1 or C&O Eq. 10.7)\n",
        "#           dMdr (Prialnik 5.2 or C&O Eq. 10.8)\n",
        "#           dLdr (Prialnik 5.4 or C&O Eq. 10.45) and\n",
        "#           dTdr (Prialnik 5.3 or C&O Eq. 10.61 or Eq. 10.81)\n",
        "#           are calculated in function calls, defined previously in the code.\n",
        "#\n",
        "\n",
        "      Nsrtp1 = ip1 + 1\n",
        "\n",
        "      if (ierr != 0):    # exit if we've arrived at this point after an error in initialization\n",
        "          Nstop=Nsrtp1-1\n",
        "          istop=Nstop\n",
        "\n",
        "      for i in range(Nsrtp1,Nstop):\n",
        "          im1 = i - 1\n",
        "          f_im1[0] = P[im1]\n",
        "          f_im1[1] = M_r[im1]\n",
        "          f_im1[2] = L_r[im1]\n",
        "          f_im1[3] = T[im1]\n",
        "          dfdr[0]  = dPdr(r[im1], M_r[im1], rho[im1],cst)\n",
        "          dfdr[1]  = dMdr(r[im1], rho[im1],cst)\n",
        "          dfdr[2]  = dLdr(r[im1], rho[im1], epslon[im1],cst)\n",
        "          dfdr[3]  = dTdr(r[im1], M_r[im1], L_r[im1], T[im1], rho[im1],\n",
        "                          kappa[im1], mu, irc,cst)\n",
        "          f_i,ierr=RUNGE(f_im1, dfdr, r[im1], deltar, irc, X, Z, XCNO, mu, i,cst)\n",
        "\n",
        "          if (ierr != 0):\n",
        "              print(' The problem occurred in the Runge-Kutta routine')\n",
        "              print(' Values from the previous zone are:')\n",
        "              print('r/Rs    = {0:12.5e}'.format(r[im1]/Rs))\n",
        "              print('rho     = {0:12.5e} g/cm**3'.format(rho[im1]))\n",
        "              print('M_r/Ms  = {0:12.5e}'.format(M_r[im1]/Ms))\n",
        "              print('kappa   = {0:12.5e} cm**2/g'.format(kappa[im1]))\n",
        "              print('T       = {0:12.5e} K'.format(T[im1]))\n",
        "              print('epsilon = {0:12.5e} ergs/g/s'.format(epslon[im1]))\n",
        "              print('P       = {0:12.5e} dynes/cm**2'.format(P[im1]))\n",
        "              print('L_r/Ls  = {0:12.5e}'.format(L_r[im1]/Ls))\n",
        "              break\n",
        "#\n",
        "#  Update stellar parameters for the next zone, including adding\n",
        "#  dr to the old radius (note that dr <  0 since the integration is\n",
        "#  inward).\n",
        "#\n",
        "          r[i]   = r[im1] + deltar\n",
        "          P[i]   = f_i[0]\n",
        "          M_r[i] = f_i[1]\n",
        "          L_r[i] = f_i[2]\n",
        "          T[i]   = f_i[3]\n",
        "#\n",
        "#  Calculate the density, opacity, and energy generation rate for\n",
        "#  this zone.\n",
        "#\n",
        "          rho[i],kappa[i],epslon[i],tog_bf[i],ierr=EOS(X, Z, XCNO, mu, P[i],\n",
        "                                                       T[i], i, cst)\n",
        "\n",
        "          if (ierr != 0):\n",
        "              print(' Values from the previous zone are:')\n",
        "              print('r/Rs    = {0:12.5e}'.format(r[im1]/Rs))\n",
        "              print('rho     = {0:12.5e} g/cm**3'.format(rho[im1]))\n",
        "              print('M_r/Ms  = {0:12.5e}'.format(M_r[im1]/Ms))\n",
        "              print('kappa   = {0:12.5e} cm**2/g'.format(kappa[im1]))\n",
        "              print('T       = {0:12.5e} K'.format(T[im1]))\n",
        "              print('epsilon = {0:12.5e} ergs/g/s'.format(epslon[im1]))\n",
        "              print('P       = {0:12.5e} dynes/cm**2'.format(P[im1]))\n",
        "              print('L_r/Ls  = {0:12.5e}'.format(L_r[im1]/Ls))\n",
        "              istop = i\n",
        "              break\n",
        "\n",
        "          if (debug == 1): print(i,r[i],M_r[i],L_r[i],T[i],P[i],rho[i],kappa[i],\n",
        "                                 epslon[i],tog_bf[i])\n",
        "\n",
        "\n",
        "\n",
        "#\n",
        "#  Determine whether convection will be operating in the next zone by\n",
        "#  calculating dlnP/dlnT and comparing it to gamma/(gamma-1)\n",
        "#  (see Prialnik Eq. 6.28 or C&O Eq. 10.87).  Set the convection flag appropriately.\n",
        "#\n",
        "          dlPdlT[i] = np.log(P[i]/P[im1])/np.log(T[i]/T[im1])\n",
        "          if (dlPdlT[i] < cst.gamrat):\n",
        "              irc = 1\n",
        "          else:\n",
        "              irc = 0\n",
        "\n",
        "#\n",
        "#  Check to see whether the center has been reached.  If so, set Igoof and\n",
        "#  estimate the central conditions rhocor, epscor, Pcore, and Tcore.\n",
        "#  The central density is estimated to be the average density of the\n",
        "#  remaining central ball, the central pressure is determined by\n",
        "#  using Taylor expansion at center (Prialnik - Exercise. 5.1; CO Eq. H.4)\n",
        "#   and the central value for the energy\n",
        "#  generation rate is calculated to be the remaining interior\n",
        "#  luminosity divided by the mass of the central ball.  Finally, the\n",
        "#  central temperature is computed by applying the ideal gas law\n",
        "#  (where radiation pressure is neglected).\n",
        "#\n",
        "          if ((r[i] <= np.abs(deltar)) and ((L_r[i] >= (0.1e0*Ls)) or (M_r[i] >= (0.01e0*Ms)))):\n",
        "              #   Hit center before mass/luminosity depleted\n",
        "              Igoof = 6\n",
        "          elif (L_r[i] <= 0.0e0):\n",
        "              #   Obtained negative central luminosity\n",
        "              Igoof = 5\n",
        "              # rho: Taylor expansion at center\n",
        "              rhocor = M_r[i]/(4.0e0/3.0e0*np.pi*r[i]**3)\n",
        "              if (M_r[i] != 0.0e0):\n",
        "                  # energy generation rate\n",
        "                  epscor = L_r[i]/M_r[i]\n",
        "              else:\n",
        "                  epscor = 0.0e0\n",
        "              # P:  Taylor expansion at center\n",
        "              Pcore = P[i] + 2.0e0/3.0e0*np.pi*cst.G*rhocor**2*r[i]**2\n",
        "              # Assume ideal gas\n",
        "              Tcore = Pcore*mu*cst.m_H/(rhocor*cst.k_B)\n",
        "          elif (M_r[i] <= 0.0e0):\n",
        "              Igoof  = 4  #  Model has a hole in center (negative density!)\n",
        "              Rhocor = 0.0e0\n",
        "              epscor = 0.0e0\n",
        "              Pcore  = 0.0e0\n",
        "              Tcore  = 0.0e0\n",
        "          elif ((r[i] < (0.02e0*Rs)) and ((M_r[i] < (0.01e0*Ms)) and ((L_r[i] < 0.1e0*Ls)))):\n",
        "              #  if we've reached <2% star's radius,\n",
        "              #<1% mass enclosed and <10% luminosity then....\n",
        "              # rho: Taylor expansion at center\n",
        "              rhocor = M_r[i]/(4./3.*np.pi*r[i]**3)\n",
        "              # set maximum reasonable core mass\n",
        "              rhomax = 10.0e0*(rho[i]/rho[im1])*rho[i]\n",
        "              epscor = L_r[i]/M_r[i]\n",
        "              # P: Taylor expansion at center\n",
        "              Pcore  = P[i] + 2.0e0/3.0e0*np.pi*cst.G*rhocor**2*r[i]**2\n",
        "              # Assume ideal gas\n",
        "              Tcore  = Pcore*mu*cst.m_H/(rhocor*cst.k_B)\n",
        "            # In general, these should all produce values\n",
        "              # that rise towards center (but not too high)\n",
        "              if ((rhocor < rho[i]) or (rhocor > rhomax)):\n",
        "                  # rho is off either large or small\n",
        "                  Igoof = 1\n",
        "              elif (epscor < epslon[i]):\n",
        "                  # energy generation rate a bit off (low)\n",
        "                  Igoof = 2\n",
        "              elif (Tcore < T[i]):\n",
        "                  # Temperature a bit off (low)\n",
        "                  Igoof = 3\n",
        "              else:\n",
        "                  # number of allowed shells has been exceeded\n",
        "                  Igoof = 0\n",
        "\n",
        "          if (Igoof != -1):\n",
        "              istop = i\n",
        "              break\n",
        "#\n",
        "#  Is it time to change the step size?\n",
        "#\n",
        "          if ((idrflg == 0) and (M_r[i] < (0.99e0*Ms))):\n",
        "               deltar = (-1.0)*Rs/100.0e0\n",
        "               idrflg = 1\n",
        "\n",
        "          if ((idrflg == 1) and (deltar >= (0.5*r[i]))):\n",
        "               deltar = (-1.0)*Rs/5000.0e0\n",
        "               idrflg = 2\n",
        "\n",
        "          istop = i\n",
        "\n",
        "#\n",
        "#  Generate warning messages for the central conditions.\n",
        "#\n",
        "      rhocor = M_r[istop]/(4.0e0/3.0e0*np.pi*r[istop]**3)\n",
        "      epscor = L_r[istop]/M_r[istop]\n",
        "      Pcore  = P[istop] + 2.0e0/3.0e0*np.pi*cst.G*rhocor**2*r[istop]**2\n",
        "      Tcore  = Pcore*mu*cst.m_H/(rhocor*cst.k_B)\n",
        "\n",
        "      if  (Igoof != 0):\n",
        "          if (Igoof == -1):\n",
        "              print('Sorry to be the bearer of bad news, but...')\n",
        "              print('       Your model has some problems')\n",
        "              print('The number of allowed shells has been exceeded')\n",
        "\n",
        "          if (Igoof == 1):\n",
        "              print('It looks like you are getting close,')\n",
        "              print('however, there are still a few minor errors')\n",
        "              print('The core density seems a bit off,')\n",
        "              print(' density should increase smoothly toward the center.')\n",
        "              print(' The density of the last zone calculated was rho = ',\n",
        "                    rho[istop],' gm/cm**3')\n",
        "              print(rhocor,rhomax)\n",
        "          if (rhocor > 1e10):\n",
        "              print('It looks like you will need a degenerate')\n",
        "              print(' neutron gas and general relativity')\n",
        "              print(' to solve this core.  Who do you think I am, Einstein?')\n",
        "\n",
        "          if (Igoof == 2):\n",
        "              print('It looks like you are getting close,')\n",
        "              print('however, there are still a few minor errors')\n",
        "              print('The core epsilon seems a bit off,')\n",
        "              print(' epsilon should vary smoothly near the center.')\n",
        "              print(' The value calculated for the last zone was eps =',\n",
        "                    epslon[istop],' ergs/g/s')\n",
        "\n",
        "          if (Igoof == 3):\n",
        "              print('It looks like you are getting close,')\n",
        "              print('however, there are still a few minor errors')\n",
        "              print(' Your extrapolated central temperature is too low')\n",
        "              print(' a little more fine tuning ought to do it.')\n",
        "              print(' The value calculated for the last zone was T = ',\n",
        "                    T[istop],' K')\n",
        "\n",
        "          if (Igoof == 4):\n",
        "              print('Sorry to be the bearer of bad news, but...')\n",
        "              print('       Your model has some problems')\n",
        "              print('You created a star with a hole in the center!')\n",
        "\n",
        "          if (Igoof == 5):\n",
        "              print('Sorry to be the bearer of bad news, but...')\n",
        "              print('       Your model has some problems')\n",
        "              print('This star has a negative central luminosity!')\n",
        "\n",
        "          if (Igoof == 6):\n",
        "              print('Sorry to be the bearer of bad news, but...')\n",
        "              print('       Your model has some problems')\n",
        "              print('You hit the center before the mass and/or ')\n",
        "              print('luminosity were depleted!')\n",
        "      else:\n",
        "          print('CONGRATULATIONS, I THINK YOU FOUND IT!')\n",
        "          print('However, be sure to look at your model carefully.')\n",
        "\n",
        "#\n",
        "#  Print the central conditions.  If necessary, set limits for the\n",
        "#  central radius, mass, and luminosity if necessary, to avoid format\n",
        "#  field overflows.\n",
        "#\n",
        "\n",
        "      Rcrat = r[istop]/Rs\n",
        "      if (Rcrat < -9.999e0): Rcrat = -9.999e0\n",
        "      Mcrat = M_r[istop]/Ms\n",
        "      if (Mcrat < -9.999e0): Mcrat = -9.999e0\n",
        "      Lcrat = L_r[istop]/Ls\n",
        "      if (Lcrat < -9.999e0): Lcrat = -9.999e0\n",
        "\n",
        "      f=open('starmodl_py.dat','w')\n",
        "\n",
        "      f.write('A Homogeneous Main-Sequence Model\\n')\n",
        "      f.write(' The surface conditions are:        The central conditions are:\\n')\n",
        "      f.write(' Mtot = {0:13.6E} Msun          Mc/Mtot     = {1:12.5E}\\n'.format(Msolar,Mcrat))\n",
        "      f.write(' Rtot = {0:13.6E} Rsun          Rc/Rtot     = {1:12.5E}\\n'.format(Rsolar,Rcrat))\n",
        "      f.write(' Ltot = {0:13.6E} Lsun          Lc/Ltot     = {1:12.5E}\\n'.format(Lsolar,Lcrat))\n",
        "      f.write(' Teff = {0:13.6E} K             Density     = {1:12.5E}\\n'.format(Te,rhocor))\n",
        "      f.write(' X    = {0:13.6E}               Temperature = {1:12.5E}\\n'.format(X,Tcore))\n",
        "      f.write(' Y    = {0:13.6E}               Pressure    = {1:12.5E} dynes/cm**2\\n'.format(Y,Pcore))\n",
        "      f.write(' Z    = {0:13.6E}               epsilon     = {1:12.5E} ergs/s/g\\n'.format(Z,epscor))\n",
        "      f.write('                                    dlnP/dlnT   = {0:12.5E}\\n'.format(dlPdlT[istop]))\n",
        "\n",
        "      f.write('Notes:\\n')\n",
        "      f.write(' (1) Mass is listed as Qm = 1.0 - M_r/Mtot, where Mtot = {0:13.6}\\n'.format(Msun))\n",
        "      f.write(' (2) Convective zones are indicated by c, radiative zones by r\\n')\n",
        "      f.write(' (3) dlnP/dlnT may be limited to +99.9 or -99.9# if so it is\\n')\n",
        "      f.write(' labeled by *\\n')\n",
        "\n",
        "      print('A Homogeneous Main-Sequence Model\\n')\n",
        "      print(' The surface conditions are:        The central conditions are:\\n')\n",
        "      print(' Mtot = {0:13.6E} Msun          Mc/Mtot     = {1:12.5E}\\n'.format(Msolar,Mcrat))\n",
        "      print(' Rtot = {0:13.6E} Rsun          Rc/Rtot     = {1:12.5E}\\n'.format(Rsolar,Rcrat))\n",
        "      print(' Ltot = {0:13.6E} Lsun          Lc/Ltot     = {1:12.5E}\\n'.format(Lsolar,Lcrat))\n",
        "      print(' Teff = {0:13.6E} K             Density     = {1:12.5E}\\n'.format(Te,rhocor))\n",
        "      print(' X    = {0:13.6E}               Temperature = {1:12.5E}\\n'.format(X,Tcore))\n",
        "      print(' Y    = {0:13.6E}               Pressure    = {1:12.5E} dynes/cm**2\\n'.format(Y,Pcore))\n",
        "      print(' Z    = {0:13.6E}               epsilon     = {1:12.5E} ergs/s/g\\n'.format(Z,epscor))\n",
        "      print('                                    dlnP/dlnT   = {0:12.5E}\\n'.format(dlPdlT[istop]))\n",
        "\n",
        "      print('Notes:\\n')\n",
        "      print(' (1) Mass is listed as Qm = 1.0 - M_r/Mtot, where Mtot = {0:13.6}\\n'.format(Msun))\n",
        "      print(' (2) Convective zones are indicated by c, radiative zones by r\\n')\n",
        "      print(' (3) dlnP/dlnT may be limited to +99.9 or -99.9# if so it is\\n')\n",
        "      print(' labeled by *\\n')\n",
        "\n",
        "#\n",
        "#  Print data from the center of the star outward, labeling convective\n",
        "#   or radiative zones by c or r, respectively.  If abs(dlnP/dlnT)\n",
        "#  exceeds 99.9, set a print warning flag (*) and set the output limit\n",
        "#  to +99.9 or -99.9 as appropriate to avoid format field overflows.\n",
        "#\n",
        "      f.write('   r        Qm       L_r       T        P        rho      kap      eps     dlPdlT\\n')\n",
        "      savers = np.zeros(istop+1)\n",
        "      saveMs = np.zeros(istop+1)\n",
        "      saveLs = np.zeros(istop+1)\n",
        "      saveTs = np.zeros(istop+1)\n",
        "      savePs = np.zeros(istop+1)\n",
        "      saverhos = np.zeros(istop+1)\n",
        "      savekappas = np.zeros(istop+1)\n",
        "      saveeps = np.zeros(istop+1)\n",
        "      savegrads = np.zeros(istop+1)\n",
        "      clims = np.zeros(istop+1).astype(str)\n",
        "      rcfs = np.zeros(istop+1).astype(str)\n",
        "      for ic in range(0,istop+1):\n",
        "          i = istop - ic\n",
        "          Qm = 1.0e0 - M_r[i]/Ms    # Total mass fraction down to radius\n",
        "\n",
        "\n",
        "          if (dlPdlT[i] < cst.gamrat):\n",
        "              rcf = 'c'\n",
        "          else:\n",
        "              rcf = 'r'\n",
        "          if (np.abs(dlPdlT[i]) > dlPlim):\n",
        "              dlPdlT[i] = np.copysign(dlPlim,dlPdlT[i])\n",
        "              clim = '*'\n",
        "          else:\n",
        "              clim = ' '\n",
        "          s='{0:7.2E} {1:7.2E} {2:7.2E} {3:7.2E} {4:7.2E} {5:7.2E} {6:7.2E} {7:6.2E}{8:1s}{9:1s} {10:5.1f}\\n'.format(r[i], Qm, L_r[i], T[i], P[i], rho[i], kappa[i],epslon[i], clim, rcf, dlPdlT[i])\n",
        "          savers[ic] = r[i]\n",
        "          saveMs[ic] = Qm\n",
        "          saveLs[ic] = L_r[i]\n",
        "          saveTs[ic] = T[i]\n",
        "          savePs[ic] = P[i]\n",
        "          saverhos[ic] = rho[i]\n",
        "          savekappas[ic] = kappa[i]\n",
        "          saveeps[ic] = epslon[i]\n",
        "          clims[ic] = clim\n",
        "          rcfs[ic] = rcf\n",
        "          savegrads[ic] = dlPdlT[i]\n",
        "          f.write(s)\n",
        "      dataDict = {'r':savers,'Qm':saveMs,'L_r':saveLs,'T':saveTs, 'P':savePs,\n",
        "                  'rho':saverhos,'kap':savekappas,'eps':saveeps,'warning':clims,\n",
        "                  'zone type':rcfs,'dlPdlT':savegrads}\n",
        "      datadf = pd.DataFrame(dataDict)\n",
        "#     Output to screen\n",
        "      print()\n",
        "      print('***** The integration has been completed *****')\n",
        "      print('      The model has been stored in starmodl_py.dat and returned as datadf')\n",
        "      print()\n",
        "      return Igoof,ierr,istop,datadf\n"
      ],
      "metadata": {
        "id": "VqNMjxd4dj-G"
      },
      "execution_count": null,
      "outputs": []
    },
    {
      "cell_type": "markdown",
      "source": [
        "## Running `StatStar`"
      ],
      "metadata": {
        "id": "eJp20CdEg8E2"
      }
    },
    {
      "cell_type": "code",
      "source": [
        "Msolar=float(input(' Enter the mass of the star (in solar units):'))\n",
        "Lsolar=float(input(' Enter the luminosity of the star (in solar units):'))\n",
        "Te=float(input(' Enter the effective temperature of the star (in K):'))\n",
        "Y=-1.0\n",
        "while (Y < 0.0):\n",
        "    X=float(input(' Enter the mass fraction of hydrogen (X):'))\n",
        "    Z=float(input(' Enter the mass fraction of metals (Z):'))\n",
        "    Y = 1.e0 - X - Z\n",
        "    if Y < 0:\n",
        "        print('You must have X + Z <= 1. Please reenter composition.')\n",
        "\n",
        "Igoof,ierr,istop,datadf=StatStar(Msolar,Lsolar,Te,X,Z)\n"
      ],
      "metadata": {
        "id": "gDe4yzwNgy7x",
        "colab": {
          "base_uri": "https://localhost:8080/"
        },
        "outputId": "dffbd40d-17a7-4e9a-a205-d803b0a925ec"
      },
      "execution_count": null,
      "outputs": [
        {
          "output_type": "stream",
          "name": "stdout",
          "text": [
            " Enter the mass of the star (in solar units):1.0\n",
            " Enter the luminosity of the star (in solar units):0.86071\n",
            " Enter the effective temperature of the star (in K):5500.2\n",
            " Enter the mass fraction of hydrogen (X):0.70\n",
            " Enter the mass fraction of metals (Z):0.008\n",
            "CONGRATULATIONS, I THINK YOU FOUND IT!\n",
            "However, be sure to look at your model carefully.\n",
            "A Homogeneous Main-Sequence Model\n",
            "\n",
            " The surface conditions are:        The central conditions are:\n",
            "\n",
            " Mtot =  1.000000E+00 Msun          Mc/Mtot     =  4.00418E-04\n",
            "\n",
            " Rtot =  1.020998E+00 Rsun          Rc/Rtot     =  1.90000E-02\n",
            "\n",
            " Ltot =  8.607100E-01 Lsun          Lc/Ltot     =  7.67225E-02\n",
            "\n",
            " Teff =  5.500200E+03 K             Density     =  7.72529E+01\n",
            "\n",
            " X    =  7.000000E-01               Temperature =  1.41421E+07\n",
            "\n",
            " Y    =  2.920000E-01               Pressure    =  1.46284E+17 dynes/cm**2\n",
            "\n",
            " Z    =  8.000000E-03               epsilon     =  3.17232E+02 ergs/s/g\n",
            "\n",
            "                                    dlnP/dlnT   =  2.49808E+00\n",
            "\n",
            "Notes:\n",
            "\n",
            " (1) Mass is listed as Qm = 1.0 - M_r/Mtot, where Mtot =     1.989e+33\n",
            "\n",
            " (2) Convective zones are indicated by c, radiative zones by r\n",
            "\n",
            " (3) dlnP/dlnT may be limited to +99.9 or -99.9# if so it is\n",
            "\n",
            " labeled by *\n",
            "\n",
            "\n",
            "***** The integration has been completed *****\n",
            "      The model has been stored in starmodl_py.dat\n",
            "\n"
          ]
        }
      ]
    },
    {
      "cell_type": "markdown",
      "source": [
        "## Breaking `StatStar`"
      ],
      "metadata": {
        "id": "BJo2UH-qgRsC"
      }
    },
    {
      "cell_type": "code",
      "source": [
        "# Cranking up the mass * 1000.\n",
        "M = 1000\n",
        "L = 0.86071\n",
        "Te = 5500.2\n",
        "X = 0.70\n",
        "Z = 0.008"
      ],
      "metadata": {
        "id": "xbccOkMlfCt_"
      },
      "execution_count": null,
      "outputs": []
    },
    {
      "cell_type": "code",
      "source": [
        "StatStar(M, L, Te, X, Z);"
      ],
      "metadata": {
        "colab": {
          "base_uri": "https://localhost:8080/"
        },
        "id": "UlL3G6KFgbz0",
        "outputId": "426645a5-205f-498b-86cc-a3ac981fe2ee"
      },
      "execution_count": null,
      "outputs": [
        {
          "output_type": "stream",
          "name": "stdout",
          "text": [
            " The variation in mass has become larger than 0.001*Ms\n",
            " leaving the approximation loop before Nstart was reached\n",
            "Sorry to be the bearer of bad news, but...\n",
            "       Your model has some problems\n",
            "This star has a negative central luminosity!\n",
            "A Homogeneous Main-Sequence Model\n",
            "\n",
            " The surface conditions are:        The central conditions are:\n",
            "\n",
            " Mtot =  1.000000E+03 Msun          Mc/Mtot     =  9.99241E-01\n",
            "\n",
            " Rtot =  1.020998E+00 Rsun          Rc/Rtot     =  9.97000E-01\n",
            "\n",
            " Ltot =  8.607100E-01 Lsun          Lc/Ltot     = -4.29290E+00\n",
            "\n",
            " Teff =  5.500200E+03 K             Density     =  1.33428E+03\n",
            "\n",
            " X    =  7.000000E-01               Temperature =  6.99349E+09\n",
            "\n",
            " Y    =  2.920000E-01               Pressure    =  1.24943E+21 dynes/cm**2\n",
            "\n",
            " Z    =  8.000000E-03               epsilon     = -7.11292E-03 ergs/s/g\n",
            "\n",
            "                                    dlnP/dlnT   =  3.84711E+00\n",
            "\n",
            "Notes:\n",
            "\n",
            " (1) Mass is listed as Qm = 1.0 - M_r/Mtot, where Mtot =     1.989e+33\n",
            "\n",
            " (2) Convective zones are indicated by c, radiative zones by r\n",
            "\n",
            " (3) dlnP/dlnT may be limited to +99.9 or -99.9# if so it is\n",
            "\n",
            " labeled by *\n",
            "\n",
            "\n",
            "***** The integration has been completed *****\n",
            "      The model has been stored in starmodl_py.dat and returned as datadf\n",
            "\n"
          ]
        }
      ]
    },
    {
      "cell_type": "code",
      "source": [
        "# Increasing hydrogen fraction.\n",
        "M = 1.0\n",
        "L = 0.86071\n",
        "Te = 5500.2\n",
        "X = 0.99\n",
        "Z = 0.008"
      ],
      "metadata": {
        "id": "ss85nePggcgr"
      },
      "execution_count": null,
      "outputs": []
    },
    {
      "cell_type": "code",
      "source": [
        "StatStar(M, L, Te, X, Z);"
      ],
      "metadata": {
        "colab": {
          "base_uri": "https://localhost:8080/"
        },
        "id": "tF4W2AxNgp7c",
        "outputId": "72b544c8-c359-47d3-8d64-22305801dee4"
      },
      "execution_count": null,
      "outputs": [
        {
          "output_type": "stream",
          "name": "stdout",
          "text": [
            "Sorry to be the bearer of bad news, but...\n",
            "       Your model has some problems\n",
            "This star has a negative central luminosity!\n",
            "A Homogeneous Main-Sequence Model\n",
            "\n",
            " The surface conditions are:        The central conditions are:\n",
            "\n",
            " Mtot =  1.000000E+00 Msun          Mc/Mtot     =  3.38972E-01\n",
            "\n",
            " Rtot =  1.020998E+00 Rsun          Rc/Rtot     =  1.23000E-01\n",
            "\n",
            " Ltot =  8.607100E-01 Lsun          Lc/Ltot     = -3.96864E-01\n",
            "\n",
            " Teff =  5.500200E+03 K             Density     =  2.41052E+02\n",
            "\n",
            " X    =  9.900000E-01               Temperature =  2.13057E+07\n",
            "\n",
            " Y    =  2.000000E-03               Pressure    =  8.41256E+17 dynes/cm**2\n",
            "\n",
            " Z    =  8.000000E-03               epsilon     = -1.93840E+00 ergs/s/g\n",
            "\n",
            "                                    dlnP/dlnT   = -5.33587E+00\n",
            "\n",
            "Notes:\n",
            "\n",
            " (1) Mass is listed as Qm = 1.0 - M_r/Mtot, where Mtot =     1.989e+33\n",
            "\n",
            " (2) Convective zones are indicated by c, radiative zones by r\n",
            "\n",
            " (3) dlnP/dlnT may be limited to +99.9 or -99.9# if so it is\n",
            "\n",
            " labeled by *\n",
            "\n",
            "\n",
            "***** The integration has been completed *****\n",
            "      The model has been stored in starmodl_py.dat and returned as datadf\n",
            "\n"
          ]
        }
      ]
    },
    {
      "cell_type": "code",
      "source": [
        "# Increasing metal fraction.\n",
        "M = 1.0\n",
        "L = 0.86071\n",
        "Te = 5500.2\n",
        "X = 0.70\n",
        "Z = 0.30"
      ],
      "metadata": {
        "id": "1OItw9Legr4T"
      },
      "execution_count": null,
      "outputs": []
    },
    {
      "cell_type": "code",
      "source": [
        "StatStar(M, L, Te, X, Z);"
      ],
      "metadata": {
        "colab": {
          "base_uri": "https://localhost:8080/"
        },
        "id": "zlWvDWzHgxad",
        "outputId": "32d34cb0-4a5d-46ea-85ba-fc9927a033db"
      },
      "execution_count": null,
      "outputs": [
        {
          "output_type": "stream",
          "name": "stdout",
          "text": [
            "Sorry to be the bearer of bad news, but...\n",
            "       Your model has some problems\n",
            "This star has a negative central luminosity!\n",
            "A Homogeneous Main-Sequence Model\n",
            "\n",
            " The surface conditions are:        The central conditions are:\n",
            "\n",
            " Mtot =  1.000000E+00 Msun          Mc/Mtot     =  6.21599E-01\n",
            "\n",
            " Rtot =  1.020998E+00 Rsun          Rc/Rtot     =  1.43000E-01\n",
            "\n",
            " Ltot =  8.607100E-01 Lsun          Lc/Ltot     = -3.98213E-01\n",
            "\n",
            " Teff =  5.500200E+03 K             Density     =  2.81297E+02\n",
            "\n",
            " X    =  7.000000E-01               Temperature =  3.59731E+07\n",
            "\n",
            " Y    =  0.000000E+00               Pressure    =  1.29397E+18 dynes/cm**2\n",
            "\n",
            " Z    =  3.000000E-01               epsilon     = -1.06065E+00 ergs/s/g\n",
            "\n",
            "                                    dlnP/dlnT   = -1.86483E+01\n",
            "\n",
            "Notes:\n",
            "\n",
            " (1) Mass is listed as Qm = 1.0 - M_r/Mtot, where Mtot =     1.989e+33\n",
            "\n",
            " (2) Convective zones are indicated by c, radiative zones by r\n",
            "\n",
            " (3) dlnP/dlnT may be limited to +99.9 or -99.9# if so it is\n",
            "\n",
            " labeled by *\n",
            "\n",
            "\n",
            "***** The integration has been completed *****\n",
            "      The model has been stored in starmodl_py.dat and returned as datadf\n",
            "\n"
          ]
        }
      ]
    },
    {
      "cell_type": "code",
      "source": [
        "# Increasing effective temperature by 1000.\n",
        "M = 1.0\n",
        "L = 0.86071\n",
        "Te = 5500200.0\n",
        "X = 0.70\n",
        "Z = 0.30"
      ],
      "metadata": {
        "id": "1D9IqALIgzpM"
      },
      "execution_count": null,
      "outputs": []
    },
    {
      "cell_type": "code",
      "source": [
        "StatStar(M, L, Te, X, Z);"
      ],
      "metadata": {
        "colab": {
          "base_uri": "https://localhost:8080/",
          "height": 662
        },
        "id": "UMA-7k9vg2fk",
        "outputId": "90da5500-a01d-4460-88d6-3579f55c4609"
      },
      "execution_count": null,
      "outputs": [
        {
          "output_type": "stream",
          "name": "stdout",
          "text": [
            " I am sorry, but a negative density was detected.\n",
            " my equation-of-state routine is a bit baffled by this new\n",
            " physical system you have created.  The radiation pressure\n",
            " is probably too great, implying that the star is unstable.\n",
            " Please try something a little less radical next time.\n",
            " In case it helps, I detected the problem in zone \n",
            " with the following conditions:\n",
            "T       =  2.82442E+38 K\n",
            "P_total =  2.17848E+32 dynes/cm**2\n",
            "P_rad   = 1.60494E+139 dynes/cm**2\n",
            "P_gas   = -1.60494E+139 dynes/cm**2\n",
            "rho     = -4.44371E+92 g/cm**3\n",
            " The problem occurred in the Runge-Kutta routine\n",
            " Values from the previous zone are:\n",
            "r/Rs    =  9.90000e-01\n",
            "rho     =  3.97168e+13 g/cm**3\n",
            "M_r/Ms  =  1.00000e+00\n",
            "kappa   =  6.31748e-01 cm**2/g\n",
            "T       =  3.47131e+10 K\n",
            "epsilon = -3.94424e+36 ergs/g/s\n",
            "P       =  1.76303e+32 dynes/cm**2\n",
            "L_r/Ls  =  1.00000e+00\n"
          ]
        },
        {
          "output_type": "error",
          "ename": "UnboundLocalError",
          "evalue": "local variable 'istop' referenced before assignment",
          "traceback": [
            "\u001b[0;31m---------------------------------------------------------------------------\u001b[0m",
            "\u001b[0;31mUnboundLocalError\u001b[0m                         Traceback (most recent call last)",
            "\u001b[0;32m<ipython-input-33-ece56251342b>\u001b[0m in \u001b[0;36m<cell line: 1>\u001b[0;34m()\u001b[0m\n\u001b[0;32m----> 1\u001b[0;31m \u001b[0mStatStar\u001b[0m\u001b[0;34m(\u001b[0m\u001b[0mM\u001b[0m\u001b[0;34m,\u001b[0m \u001b[0mL\u001b[0m\u001b[0;34m,\u001b[0m \u001b[0mTe\u001b[0m\u001b[0;34m,\u001b[0m \u001b[0mX\u001b[0m\u001b[0;34m,\u001b[0m \u001b[0mZ\u001b[0m\u001b[0;34m)\u001b[0m\u001b[0;34m;\u001b[0m\u001b[0;34m\u001b[0m\u001b[0;34m\u001b[0m\u001b[0m\n\u001b[0m",
            "\u001b[0;32m<ipython-input-15-f142222c98aa>\u001b[0m in \u001b[0;36mStatStar\u001b[0;34m(Msolar, Lsolar, Te, X, Z)\u001b[0m\n\u001b[1;32m    392\u001b[0m \u001b[0;31m#  Generate warning messages for the central conditions.\u001b[0m\u001b[0;34m\u001b[0m\u001b[0;34m\u001b[0m\u001b[0m\n\u001b[1;32m    393\u001b[0m \u001b[0;31m#\u001b[0m\u001b[0;34m\u001b[0m\u001b[0;34m\u001b[0m\u001b[0m\n\u001b[0;32m--> 394\u001b[0;31m       \u001b[0mrhocor\u001b[0m \u001b[0;34m=\u001b[0m \u001b[0mM_r\u001b[0m\u001b[0;34m[\u001b[0m\u001b[0mistop\u001b[0m\u001b[0;34m]\u001b[0m\u001b[0;34m/\u001b[0m\u001b[0;34m(\u001b[0m\u001b[0;36m4.0e0\u001b[0m\u001b[0;34m/\u001b[0m\u001b[0;36m3.0e0\u001b[0m\u001b[0;34m*\u001b[0m\u001b[0mnp\u001b[0m\u001b[0;34m.\u001b[0m\u001b[0mpi\u001b[0m\u001b[0;34m*\u001b[0m\u001b[0mr\u001b[0m\u001b[0;34m[\u001b[0m\u001b[0mistop\u001b[0m\u001b[0;34m]\u001b[0m\u001b[0;34m**\u001b[0m\u001b[0;36m3\u001b[0m\u001b[0;34m)\u001b[0m\u001b[0;34m\u001b[0m\u001b[0;34m\u001b[0m\u001b[0m\n\u001b[0m\u001b[1;32m    395\u001b[0m       \u001b[0mepscor\u001b[0m \u001b[0;34m=\u001b[0m \u001b[0mL_r\u001b[0m\u001b[0;34m[\u001b[0m\u001b[0mistop\u001b[0m\u001b[0;34m]\u001b[0m\u001b[0;34m/\u001b[0m\u001b[0mM_r\u001b[0m\u001b[0;34m[\u001b[0m\u001b[0mistop\u001b[0m\u001b[0;34m]\u001b[0m\u001b[0;34m\u001b[0m\u001b[0;34m\u001b[0m\u001b[0m\n\u001b[1;32m    396\u001b[0m       \u001b[0mPcore\u001b[0m  \u001b[0;34m=\u001b[0m \u001b[0mP\u001b[0m\u001b[0;34m[\u001b[0m\u001b[0mistop\u001b[0m\u001b[0;34m]\u001b[0m \u001b[0;34m+\u001b[0m \u001b[0;36m2.0e0\u001b[0m\u001b[0;34m/\u001b[0m\u001b[0;36m3.0e0\u001b[0m\u001b[0;34m*\u001b[0m\u001b[0mnp\u001b[0m\u001b[0;34m.\u001b[0m\u001b[0mpi\u001b[0m\u001b[0;34m*\u001b[0m\u001b[0mcst\u001b[0m\u001b[0;34m.\u001b[0m\u001b[0mG\u001b[0m\u001b[0;34m*\u001b[0m\u001b[0mrhocor\u001b[0m\u001b[0;34m**\u001b[0m\u001b[0;36m2\u001b[0m\u001b[0;34m*\u001b[0m\u001b[0mr\u001b[0m\u001b[0;34m[\u001b[0m\u001b[0mistop\u001b[0m\u001b[0;34m]\u001b[0m\u001b[0;34m**\u001b[0m\u001b[0;36m2\u001b[0m\u001b[0;34m\u001b[0m\u001b[0;34m\u001b[0m\u001b[0m\n",
            "\u001b[0;31mUnboundLocalError\u001b[0m: local variable 'istop' referenced before assignment"
          ]
        }
      ]
    },
    {
      "cell_type": "markdown",
      "source": [
        "## A Different Working Model"
      ],
      "metadata": {
        "id": "BpZf8icghCB2"
      }
    },
    {
      "cell_type": "code",
      "source": [
        "M = 0.75\n",
        "L = 0.1877\n",
        "Te = 3839.1\n",
        "X = 0.70\n",
        "Z = 0.008"
      ],
      "metadata": {
        "id": "Un8ogEHbg3-s"
      },
      "execution_count": null,
      "outputs": []
    },
    {
      "cell_type": "code",
      "source": [
        "Igoof,ierr,istop,datadf2 = StatStar(M, L, Te, X, Z)"
      ],
      "metadata": {
        "colab": {
          "base_uri": "https://localhost:8080/"
        },
        "id": "jzXispkShFaE",
        "outputId": "8bc1b332-8e4d-458c-e22d-435c7b23fb82"
      },
      "execution_count": null,
      "outputs": [
        {
          "output_type": "stream",
          "name": "stdout",
          "text": [
            "CONGRATULATIONS, I THINK YOU FOUND IT!\n",
            "However, be sure to look at your model carefully.\n",
            "A Homogeneous Main-Sequence Model\n",
            "\n",
            " The surface conditions are:        The central conditions are:\n",
            "\n",
            " Mtot =  7.500000E-01 Msun          Mc/Mtot     =  2.94662E-04\n",
            "\n",
            " Rtot =  9.786486E-01 Rsun          Rc/Rtot     =  1.70000E-02\n",
            "\n",
            " Ltot =  1.877000E-01 Lsun          Lc/Ltot     =  8.14922E-02\n",
            "\n",
            " Teff =  3.839100E+03 K             Density     =  6.75920E+01\n",
            "\n",
            " X    =  7.000000E-01               Temperature =  1.11109E+07\n",
            "\n",
            " Y    =  2.920000E-01               Pressure    =  1.00558E+17 dynes/cm**2\n",
            "\n",
            " Z    =  8.000000E-03               epsilon     =  1.33139E+02 ergs/s/g\n",
            "\n",
            "                                    dlnP/dlnT   =  2.49875E+00\n",
            "\n",
            "Notes:\n",
            "\n",
            " (1) Mass is listed as Qm = 1.0 - M_r/Mtot, where Mtot =     1.989e+33\n",
            "\n",
            " (2) Convective zones are indicated by c, radiative zones by r\n",
            "\n",
            " (3) dlnP/dlnT may be limited to +99.9 or -99.9# if so it is\n",
            "\n",
            " labeled by *\n",
            "\n",
            "\n",
            "***** The integration has been completed *****\n",
            "      The model has been stored in starmodl_py.dat and returned as datadf\n",
            "\n"
          ]
        }
      ]
    },
    {
      "cell_type": "code",
      "source": [
        "modelA = datadf\n",
        "modelC = datadf2\n",
        "plt.plot(modelA['r'],modelA['rho'])\n",
        "plt.plot(modelC['r'],modelC['rho'])\n",
        "plt.grid()\n",
        "plt.title('Density vs. Radius')\n",
        "plt.xlabel('Radius (cm)')\n",
        "plt.ylabel('Density (g/cm**3)')\n",
        "plt.legend(['Model A','Model C'])"
      ],
      "metadata": {
        "colab": {
          "base_uri": "https://localhost:8080/",
          "height": 490
        },
        "id": "kz_YPFiKhTXV",
        "outputId": "4500380b-62c4-439c-8323-5679292e9ba2"
      },
      "execution_count": null,
      "outputs": [
        {
          "output_type": "execute_result",
          "data": {
            "text/plain": [
              "<matplotlib.legend.Legend at 0x782844e55ff0>"
            ]
          },
          "metadata": {},
          "execution_count": 40
        },
        {
          "output_type": "display_data",
          "data": {
            "text/plain": [
              "<Figure size 640x480 with 1 Axes>"
            ],
            "image/png": "[encoded data removed]"
          },
          "metadata": {}
        }
      ]
    },
    {
      "cell_type": "code",
      "source": [
        "modelA = datadf\n",
        "modelC = datadf2\n",
        "plt.plot(modelA['r'],modelA['T'])\n",
        "plt.plot(modelC['r'],modelC['T'])\n",
        "plt.grid()\n",
        "plt.title('Temperature vs. Radius')\n",
        "plt.xlabel('Radius (cm)')\n",
        "plt.ylabel('Temperature (K)')\n",
        "plt.legend(['Model A','Model C'])"
      ],
      "metadata": {
        "colab": {
          "base_uri": "https://localhost:8080/",
          "height": 490
        },
        "id": "gy0kdTaghcIt",
        "outputId": "54569d57-834c-4a83-f5d4-0096dcba6fc0"
      },
      "execution_count": null,
      "outputs": [
        {
          "output_type": "execute_result",
          "data": {
            "text/plain": [
              "<matplotlib.legend.Legend at 0x782844c94d30>"
            ]
          },
          "metadata": {},
          "execution_count": 41
        },
        {
          "output_type": "display_data",
          "data": {
            "text/plain": [
              "<Figure size 640x480 with 1 Axes>"
            ],
            "image/png": "[encoded data removed]"
          },
          "metadata": {}
        }
      ]
    },
    {
      "cell_type": "code",
      "source": [
        "modelA = datadf\n",
        "modelC = datadf2\n",
        "plt.plot(modelA['r'],modelA['L_r'])\n",
        "plt.plot(modelC['r'],modelC['L_r'])\n",
        "plt.grid()\n",
        "plt.title('Luminosity vs. Radius')\n",
        "plt.xlabel('Radius (cm)')\n",
        "plt.ylabel('Luminosity (erg s**-1)')\n",
        "plt.legend(['Model A','Model C'])"
      ],
      "metadata": {
        "colab": {
          "base_uri": "https://localhost:8080/",
          "height": 490
        },
        "id": "qzjPktI-i3ly",
        "outputId": "1ddacd92-98ae-48f8-fe84-62b7664c9a96"
      },
      "execution_count": null,
      "outputs": [
        {
          "output_type": "execute_result",
          "data": {
            "text/plain": [
              "<matplotlib.legend.Legend at 0x782844d33d60>"
            ]
          },
          "metadata": {},
          "execution_count": 43
        },
        {
          "output_type": "display_data",
          "data": {
            "text/plain": [
              "<Figure size 640x480 with 1 Axes>"
            ],
            "image/png": "[encoded data removed]"
          },
          "metadata": {}
        }
      ]
    },
    {
      "cell_type": "code",
      "source": [],
      "metadata": {
        "id": "YbGlcNFKi_AC"
      },
      "execution_count": null,
      "outputs": []
    }
  ]
}