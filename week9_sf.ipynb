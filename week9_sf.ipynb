{
  "nbformat": 4,
  "nbformat_minor": 0,
  "metadata": {
    "colab": {
      "provenance": [],
      "authorship_tag": "ABX9TyPeKPzvmh+Cqs+FV1Q3KLml",
      "include_colab_link": true
    },
    "kernelspec": {
      "name": "python3",
      "display_name": "Python 3"
    },
    "language_info": {
      "name": "python"
    }
  },
  "cells": [
    {
      "cell_type": "markdown",
      "metadata": {
        "id": "view-in-github",
        "colab_type": "text"
      },
      "source": [
        "<a href=\"https://colab.research.google.com/github/ramansbach/astrophysics_notebooks/blob/main/week9_sf.ipynb\" target=\"_parent\"><img src=\"https://colab.research.google.com/assets/colab-badge.svg\" alt=\"Open In Colab\"/></a>"
      ]
    },
    {
      "cell_type": "markdown",
      "source": [
        "## Example Problem\n",
        "What is the Jeans length for a gas cloud with $T=10$ K and $n=10^5$ cm$^{-3}$?\n",
        "\n",
        "The equation for the Jeans length is given by\n",
        "\n",
        "$$ L_J = \\sqrt{\\frac{\\pi v_T^2}{G \\rho}}$$\n"
      ],
      "metadata": {
        "id": "imgHjl5zlJMA"
      }
    },
    {
      "cell_type": "code",
      "execution_count": null,
      "metadata": {
        "colab": {
          "base_uri": "https://localhost:8080/"
        },
        "id": "uFYnRgGhlAbS",
        "outputId": "3504499d-a583-4cbb-816b-d3096195fa79"
      },
      "outputs": [
        {
          "output_type": "stream",
          "name": "stdout",
          "text": [
            "Requirement already satisfied: astropy in /usr/local/lib/python3.10/dist-packages (6.1.3)\n",
            "Requirement already satisfied: numpy>=1.23 in /usr/local/lib/python3.10/dist-packages (from astropy) (1.26.4)\n",
            "Requirement already satisfied: pyerfa>=2.0.1.1 in /usr/local/lib/python3.10/dist-packages (from astropy) (2.0.1.4)\n",
            "Requirement already satisfied: astropy-iers-data>=0.2024.7.29.0.32.7 in /usr/local/lib/python3.10/dist-packages (from astropy) (0.2024.8.27.10.28.29)\n",
            "Requirement already satisfied: PyYAML>=3.13 in /usr/local/lib/python3.10/dist-packages (from astropy) (6.0.2)\n",
            "Requirement already satisfied: packaging>=19.0 in /usr/local/lib/python3.10/dist-packages (from astropy) (24.1)\n",
            "Requirement already satisfied: mendeleev in /usr/local/lib/python3.10/dist-packages (0.17.0)\n",
            "Requirement already satisfied: Pygments<3.0.0,>=2.11.2 in /usr/local/lib/python3.10/dist-packages (from mendeleev) (2.16.1)\n",
            "Requirement already satisfied: SQLAlchemy>=1.4.0 in /usr/local/lib/python3.10/dist-packages (from mendeleev) (2.0.32)\n",
            "Requirement already satisfied: colorama<0.5.0,>=0.4.6 in /usr/local/lib/python3.10/dist-packages (from mendeleev) (0.4.6)\n",
            "Requirement already satisfied: numpy<2.0,>=1.21 in /usr/local/lib/python3.10/dist-packages (from mendeleev) (1.26.4)\n",
            "Requirement already satisfied: pandas>=1.0.0 in /usr/local/lib/python3.10/dist-packages (from mendeleev) (2.1.4)\n",
            "Requirement already satisfied: pyfiglet<0.9,>=0.8.post1 in /usr/local/lib/python3.10/dist-packages (from mendeleev) (0.8.post1)\n",
            "Requirement already satisfied: python-dateutil>=2.8.2 in /usr/local/lib/python3.10/dist-packages (from pandas>=1.0.0->mendeleev) (2.8.2)\n",
            "Requirement already satisfied: pytz>=2020.1 in /usr/local/lib/python3.10/dist-packages (from pandas>=1.0.0->mendeleev) (2024.1)\n",
            "Requirement already satisfied: tzdata>=2022.1 in /usr/local/lib/python3.10/dist-packages (from pandas>=1.0.0->mendeleev) (2024.1)\n",
            "Requirement already satisfied: typing-extensions>=4.6.0 in /usr/local/lib/python3.10/dist-packages (from SQLAlchemy>=1.4.0->mendeleev) (4.12.2)\n",
            "Requirement already satisfied: greenlet!=0.4.17 in /usr/local/lib/python3.10/dist-packages (from SQLAlchemy>=1.4.0->mendeleev) (3.0.3)\n",
            "Requirement already satisfied: six>=1.5 in /usr/local/lib/python3.10/dist-packages (from python-dateutil>=2.8.2->pandas>=1.0.0->mendeleev) (1.16.0)\n"
          ]
        }
      ],
      "source": [
        "! pip install astropy\n",
        "! pip install mendeleev"
      ]
    },
    {
      "cell_type": "code",
      "source": [
        "import numpy as np, matplotlib.pyplot as plt\n",
        "import astropy.constants as const\n",
        "import astropy.units as u\n",
        "from mendeleev import element"
      ],
      "metadata": {
        "id": "W37WESPdljAq"
      },
      "execution_count": null,
      "outputs": []
    },
    {
      "cell_type": "code",
      "source": [
        "#get hydrogen mass\n",
        "H = element(\"H\")\n",
        "mH = H.mass * u.u\n",
        "mH"
      ],
      "metadata": {
        "colab": {
          "base_uri": "https://localhost:8080/",
          "height": 57
        },
        "id": "zfOAjKDimobu",
        "outputId": "589b061d-9c58-45e2-e61b-b6fc50d434ae"
      },
      "execution_count": null,
      "outputs": [
        {
          "output_type": "execute_result",
          "data": {
            "text/plain": [
              "<Quantity 1.008 u>"
            ],
            "text/latex": "$1.008 \\; \\mathrm{u}$"
          },
          "metadata": {},
          "execution_count": 18
        }
      ]
    },
    {
      "cell_type": "code",
      "source": [
        "def av_thermal_velocity(T,mu=2.8):\n",
        "  \"\"\"\n",
        "  computes the average thermal velocity in a gas\n",
        "\n",
        "  Parameters\n",
        "  ----------\n",
        "  T : float * temperature unit\n",
        "    temperature\n",
        "  mu : float\n",
        "    average atomic mass (unitless)\n",
        "\n",
        "  Returns\n",
        "  -------\n",
        "  vT : float * velocity unit\n",
        "  \"\"\"\n",
        "  vT = np.sqrt((const.k_B * T) / (mu * mH))\n",
        "  return vT\n",
        "\n",
        "def jeans_length(T,n,mu = 2.8):\n",
        "  \"\"\"\n",
        "  compute the critical size for a cold gas cloud supported by thermal pressure\n",
        "\n",
        "  Parameters\n",
        "  ----------\n",
        "  T : float * temperature unit\n",
        "    temperature\n",
        "  n : float * 1/volume unit\n",
        "    number density\n",
        "  mu : float\n",
        "    average atomic mass (unitless)\n",
        "\n",
        "  Returns\n",
        "  --------\n",
        "  LJ : float * length unit\n",
        "    the jeans length\n",
        "  \"\"\"\n",
        "  vT = av_thermal_velocity(T,mu=mu)\n",
        "  rho = n * mu * mH\n",
        "  LJ = np.sqrt((np.pi * vT * vT) / (const.G * rho))\n",
        "  return LJ"
      ],
      "metadata": {
        "id": "hyZLYgCflogh"
      },
      "execution_count": null,
      "outputs": []
    },
    {
      "cell_type": "code",
      "source": [
        "T = 10 * u.K\n",
        "n = 10**5 / (u.centimeter**3)\n",
        "\n",
        "LJ = jeans_length(T,n)"
      ],
      "metadata": {
        "id": "4STCJ09gobAi"
      },
      "execution_count": null,
      "outputs": []
    },
    {
      "cell_type": "code",
      "source": [
        "LJ"
      ],
      "metadata": {
        "colab": {
          "base_uri": "https://localhost:8080/",
          "height": 63
        },
        "id": "TBUyKn8zotXi",
        "outputId": "bf4f3a93-ac78-4d41-f5c7-18b7b7efc8a2"
      },
      "execution_count": null,
      "outputs": [
        {
          "output_type": "execute_result",
          "data": {
            "text/plain": [
              "<Quantity 2.856243e-09 cm(3/2) s J(1/2) kg(1/2) / (u m(3/2))>"
            ],
            "text/latex": "$2.856243 \\times 10^{-9} \\; \\mathrm{\\frac{cm^{3/2}\\,s\\,J^{1/2}\\,kg^{1/2}}{u\\,m^{3/2}}}$"
          },
          "metadata": {},
          "execution_count": 21
        }
      ]
    },
    {
      "cell_type": "code",
      "source": [
        "LJ.decompose()"
      ],
      "metadata": {
        "colab": {
          "base_uri": "https://localhost:8080/",
          "height": 57
        },
        "id": "d_zaL4YDouVB",
        "outputId": "e535e069-089e-4da3-9985-66fd2d1c10e6"
      },
      "execution_count": null,
      "outputs": [
        {
          "output_type": "execute_result",
          "data": {
            "text/plain": [
              "<Quantity 1.72006974e+15 m>"
            ],
            "text/latex": "$1.7200697 \\times 10^{15} \\; \\mathrm{m}$"
          },
          "metadata": {},
          "execution_count": 22
        }
      ]
    },
    {
      "cell_type": "code",
      "source": [
        "LJ.to(u.parsec)"
      ],
      "metadata": {
        "colab": {
          "base_uri": "https://localhost:8080/",
          "height": 57
        },
        "id": "UOGwEGDx5E6i",
        "outputId": "4d070ffe-f4c9-43fe-fc1b-0cc709758ae4"
      },
      "execution_count": null,
      "outputs": [
        {
          "output_type": "execute_result",
          "data": {
            "text/plain": [
              "<Quantity 0.05574366 pc>"
            ],
            "text/latex": "$0.055743664 \\; \\mathrm{pc}$"
          },
          "metadata": {},
          "execution_count": 23
        }
      ]
    },
    {
      "cell_type": "code",
      "source": [
        "print(\"The Jeans length for a cold gas cloud of temperature {0} and number density {1} is {2}\".format(T,n,LJ.to(u.parsec)))"
      ],
      "metadata": {
        "colab": {
          "base_uri": "https://localhost:8080/"
        },
        "id": "s84-Ss0KpCzG",
        "outputId": "b8e45a6e-013b-43f0-b994-c2fbce372e52"
      },
      "execution_count": null,
      "outputs": [
        {
          "output_type": "stream",
          "name": "stdout",
          "text": [
            "The Jeans length for a cold gas cloud of temperature 10.0 K and number density 100000.0 1 / cm3 is 0.055743663803444386 pc\n"
          ]
        }
      ]
    },
    {
      "cell_type": "code",
      "source": [],
      "metadata": {
        "id": "TBMcJ_8JpGWa"
      },
      "execution_count": null,
      "outputs": []
    }
  ]
}