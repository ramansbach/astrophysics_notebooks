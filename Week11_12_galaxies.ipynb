{
  "nbformat": 4,
  "nbformat_minor": 0,
  "metadata": {
    "colab": {
      "provenance": [],
      "authorship_tag": "ABX9TyMZAHlDWex4c8oAtuUd96p8",
      "include_colab_link": true
    },
    "kernelspec": {
      "name": "python3",
      "display_name": "Python 3"
    },
    "language_info": {
      "name": "python"
    }
  },
  "cells": [
    {
      "cell_type": "markdown",
      "metadata": {
        "id": "view-in-github",
        "colab_type": "text"
      },
      "source": [
        "<a href=\"https://colab.research.google.com/github/ramansbach/astrophysics_notebooks/blob/main/Week11_12_galaxies.ipynb\" target=\"_parent\"><img src=\"https://colab.research.google.com/assets/colab-badge.svg\" alt=\"Open In Colab\"/></a>"
      ]
    },
    {
      "cell_type": "code",
      "execution_count": null,
      "metadata": {
        "colab": {
          "base_uri": "https://localhost:8080/"
        },
        "id": "2nqWNGQpBuxG",
        "outputId": "6466420d-3c44-4ce8-a909-b1f4c2a8c495"
      },
      "outputs": [
        {
          "output_type": "stream",
          "name": "stdout",
          "text": [
            "Requirement already satisfied: astropy in /usr/local/lib/python3.10/dist-packages (6.1.6)\n",
            "Requirement already satisfied: numpy>=1.23 in /usr/local/lib/python3.10/dist-packages (from astropy) (1.26.4)\n",
            "Requirement already satisfied: pyerfa>=2.0.1.1 in /usr/local/lib/python3.10/dist-packages (from astropy) (2.0.1.5)\n",
            "Requirement already satisfied: astropy-iers-data>=0.2024.10.28.0.34.7 in /usr/local/lib/python3.10/dist-packages (from astropy) (0.2024.11.18.0.35.2)\n",
            "Requirement already satisfied: PyYAML>=3.13 in /usr/local/lib/python3.10/dist-packages (from astropy) (6.0.2)\n",
            "Requirement already satisfied: packaging>=19.0 in /usr/local/lib/python3.10/dist-packages (from astropy) (24.2)\n"
          ]
        }
      ],
      "source": [
        "! pip install astropy"
      ]
    },
    {
      "cell_type": "code",
      "source": [
        "from astropy.coordinates import SkyCoord\n",
        "from astropy.coordinates import ICRS, Galactic,LSR\n",
        "from astropy.coordinates import Angle, Latitude, Longitude\n",
        "import astropy.units as u\n",
        "import numpy as np\n",
        "from astropy.time import Time\n",
        "from astropy.coordinates import solar_system_ephemeris, EarthLocation\n",
        "from astropy.coordinates import get_body_barycentric, get_body, get_body_barycentric_posvel"
      ],
      "metadata": {
        "id": "ZII7Gf__B4z0"
      },
      "execution_count": 1,
      "outputs": []
    },
    {
      "cell_type": "markdown",
      "source": [
        "Sirius has celestial coordinates 6 hr 45 min RA and -16° 43' DEC."
      ],
      "metadata": {
        "id": "PQiFmSCtG6w_"
      }
    },
    {
      "cell_type": "code",
      "source": [
        "siriusc = SkyCoord(ra=\"06h45m00s\", dec=\"-16d43m00s\", frame='icrs')"
      ],
      "metadata": {
        "id": "lMuzA4KkG8yB"
      },
      "execution_count": 2,
      "outputs": []
    },
    {
      "cell_type": "code",
      "source": [
        "siriusc"
      ],
      "metadata": {
        "colab": {
          "base_uri": "https://localhost:8080/"
        },
        "id": "CDpYcMZWHX06",
        "outputId": "fc6de739-49c1-4d62-e01a-1bdf58ca040f"
      },
      "execution_count": 3,
      "outputs": [
        {
          "output_type": "execute_result",
          "data": {
            "text/plain": [
              "<SkyCoord (ICRS): (ra, dec) in deg\n",
              "    (101.25, -16.71666667)>"
            ]
          },
          "metadata": {},
          "execution_count": 3
        }
      ]
    },
    {
      "cell_type": "markdown",
      "source": [
        "Transform Sirius into Galactic coordinates."
      ],
      "metadata": {
        "id": "AXbVBYiCHchh"
      }
    },
    {
      "cell_type": "code",
      "source": [
        "siriusc.transform_to(\"galactic\")"
      ],
      "metadata": {
        "colab": {
          "base_uri": "https://localhost:8080/"
        },
        "id": "fEZC-7L1HYwC",
        "outputId": "aeb0e5d7-617f-4a5b-e82d-6b02d8cda76b"
      },
      "execution_count": 4,
      "outputs": [
        {
          "output_type": "execute_result",
          "data": {
            "text/plain": [
              "<SkyCoord (Galactic): (l, b) in deg\n",
              "    (227.21513025, -8.92256526)>"
            ]
          },
          "metadata": {},
          "execution_count": 4
        }
      ]
    },
    {
      "cell_type": "code",
      "source": [
        "siriuscvel = SkyCoord(ra=\"06h45m00s\", dec=\"-16d43m00s\", radial_velocity=-5.5*u.km/u.s,frame='icrs')"
      ],
      "metadata": {
        "id": "9pjn_6zBHlRy"
      },
      "execution_count": 5,
      "outputs": []
    },
    {
      "cell_type": "code",
      "source": [
        "siriuscvel"
      ],
      "metadata": {
        "colab": {
          "base_uri": "https://localhost:8080/"
        },
        "id": "yDawws00IPus",
        "outputId": "7ee826e4-5bbd-4a70-eb0f-ec87783ae7f3"
      },
      "execution_count": 6,
      "outputs": [
        {
          "output_type": "execute_result",
          "data": {
            "text/plain": [
              "<SkyCoord (ICRS): (ra, dec) in deg\n",
              "    (101.25, -16.71666667)\n",
              " (radial_velocity) in km / s\n",
              "    (-5.5,)>"
            ]
          },
          "metadata": {},
          "execution_count": 6
        }
      ]
    },
    {
      "cell_type": "code",
      "source": [
        "siriuscpm = SkyCoord(ra=\"06h45m00s\", dec=\"-16d43m00s\", pm_ra_cosdec=-546.01*u.mas/u.year,\n",
        "                     pm_dec=-1223.07*u.mas/u.year,radial_velocity=-5.5*u.km/u.s,frame='icrs')"
      ],
      "metadata": {
        "id": "wmftZJgwITX2"
      },
      "execution_count": 7,
      "outputs": []
    },
    {
      "cell_type": "code",
      "source": [],
      "metadata": {
        "id": "ByNcTlmP_3Wo"
      },
      "execution_count": null,
      "outputs": []
    },
    {
      "cell_type": "markdown",
      "source": [
        "\"Proper motion\" refers to observed motion against the background of distant stars. Not to be confused with \"peculiar velocity\" which we are specifically defining as the velocity of the star relative to the local standard of rest."
      ],
      "metadata": {
        "id": "f04k7UgQHWV1"
      }
    },
    {
      "cell_type": "code",
      "source": [
        "siriuscpm"
      ],
      "metadata": {
        "colab": {
          "base_uri": "https://localhost:8080/"
        },
        "id": "RBT3BbJ8I45e",
        "outputId": "0e1e43e9-4aca-4286-98ac-59811c8fa138"
      },
      "execution_count": 8,
      "outputs": [
        {
          "output_type": "execute_result",
          "data": {
            "text/plain": [
              "<SkyCoord (ICRS): (ra, dec) in deg\n",
              "    (101.25, -16.71666667)\n",
              " (pm_ra_cosdec, pm_dec, radial_velocity) in (mas / yr, mas / yr, km / s)\n",
              "    (-546.01, -1223.07, -5.5)>"
            ]
          },
          "metadata": {},
          "execution_count": 8
        }
      ]
    },
    {
      "cell_type": "code",
      "source": [
        "siriuscpm.transform_to('galactic')"
      ],
      "metadata": {
        "colab": {
          "base_uri": "https://localhost:8080/"
        },
        "id": "InxDgIARI68e",
        "outputId": "c64a5c23-05be-420f-bfb4-50c332c69559"
      },
      "execution_count": 9,
      "outputs": [
        {
          "output_type": "execute_result",
          "data": {
            "text/plain": [
              "<SkyCoord (Galactic): (l, b) in deg\n",
              "    (227.21513025, -8.92256526)\n",
              " (pm_l_cosb, pm_b, radial_velocity) in (mas / yr, mas / yr, km / s)\n",
              "    (864.01988903, -1023.47289967, -5.5)>"
            ]
          },
          "metadata": {},
          "execution_count": 9
        }
      ]
    },
    {
      "cell_type": "markdown",
      "source": [
        "## Getting coordinates from Gaia\n",
        "Modified from an Astropy tutorial by Adrian Price-Whelan and Stephanie T. Douglas, which may be found here: https://learn.astropy.org/tutorials/gaia-galactic-orbits.html"
      ],
      "metadata": {
        "id": "TiOo5GUtSHT0"
      }
    },
    {
      "cell_type": "markdown",
      "source": [
        "We will use data from the Gaia mission to get sky positions, distances (parallaxes), proper motions, and radial velocities for a set of stars that are close to the Sun. We will then transform these observed, heliocentric kinematic measurements to Galactocentric Cartesian coordinates"
      ],
      "metadata": {
        "id": "CmNdNPOwSRX3"
      }
    },
    {
      "cell_type": "markdown",
      "source": [
        "### Installing Dependencies\n",
        "This tutorial depends on the Astropy affiliated packages gala and astroquery. Both of these packages can be pip-installed with:\n",
        "\n",
        "`pip install gala astroquery`"
      ],
      "metadata": {
        "id": "wZzu9ZVASaGB"
      }
    },
    {
      "cell_type": "code",
      "source": [
        "! pip install gala astroquery"
      ],
      "metadata": {
        "colab": {
          "base_uri": "https://localhost:8080/"
        },
        "id": "cxYvJs9YJj0x",
        "outputId": "56338de8-d90b-4860-d7e1-63742e8b9dd0"
      },
      "execution_count": 10,
      "outputs": [
        {
          "output_type": "stream",
          "name": "stdout",
          "text": [
            "Collecting gala\n",
            "  Downloading gala-1.9.1-cp311-cp311-manylinux_2_28_x86_64.whl.metadata (6.9 kB)\n",
            "Collecting astroquery\n",
            "  Downloading astroquery-0.4.10-py3-none-any.whl.metadata (6.3 kB)\n",
            "Requirement already satisfied: numpy>=1.24.4 in /usr/local/lib/python3.11/dist-packages (from gala) (2.0.2)\n",
            "Requirement already satisfied: scipy>=1.8 in /usr/local/lib/python3.11/dist-packages (from gala) (1.14.1)\n",
            "Requirement already satisfied: astropy>=5.0 in /usr/local/lib/python3.11/dist-packages (from gala) (7.0.1)\n",
            "Requirement already satisfied: pyyaml in /usr/local/lib/python3.11/dist-packages (from gala) (6.0.2)\n",
            "Requirement already satisfied: cython>=0.29 in /usr/local/lib/python3.11/dist-packages (from gala) (3.0.12)\n",
            "Requirement already satisfied: requests>=2.19 in /usr/local/lib/python3.11/dist-packages (from astroquery) (2.32.3)\n",
            "Requirement already satisfied: beautifulsoup4>=4.8 in /usr/local/lib/python3.11/dist-packages (from astroquery) (4.13.3)\n",
            "Requirement already satisfied: html5lib>=0.999 in /usr/local/lib/python3.11/dist-packages (from astroquery) (1.1)\n",
            "Requirement already satisfied: keyring>=15.0 in /usr/lib/python3/dist-packages (from astroquery) (23.5.0)\n",
            "Collecting pyvo>=1.5 (from astroquery)\n",
            "  Downloading pyvo-1.6.1-py3-none-any.whl.metadata (4.8 kB)\n",
            "Requirement already satisfied: pyerfa>=2.0.1.1 in /usr/local/lib/python3.11/dist-packages (from astropy>=5.0->gala) (2.0.1.5)\n",
            "Requirement already satisfied: astropy-iers-data>=0.2025.1.31.12.41.4 in /usr/local/lib/python3.11/dist-packages (from astropy>=5.0->gala) (0.2025.3.31.0.36.18)\n",
            "Requirement already satisfied: packaging>=22.0.0 in /usr/local/lib/python3.11/dist-packages (from astropy>=5.0->gala) (24.2)\n",
            "Requirement already satisfied: soupsieve>1.2 in /usr/local/lib/python3.11/dist-packages (from beautifulsoup4>=4.8->astroquery) (2.6)\n",
            "Requirement already satisfied: typing-extensions>=4.0.0 in /usr/local/lib/python3.11/dist-packages (from beautifulsoup4>=4.8->astroquery) (4.13.0)\n",
            "Requirement already satisfied: six>=1.9 in /usr/local/lib/python3.11/dist-packages (from html5lib>=0.999->astroquery) (1.17.0)\n",
            "Requirement already satisfied: webencodings in /usr/local/lib/python3.11/dist-packages (from html5lib>=0.999->astroquery) (0.5.1)\n",
            "Requirement already satisfied: charset-normalizer<4,>=2 in /usr/local/lib/python3.11/dist-packages (from requests>=2.19->astroquery) (3.4.1)\n",
            "Requirement already satisfied: idna<4,>=2.5 in /usr/local/lib/python3.11/dist-packages (from requests>=2.19->astroquery) (3.10)\n",
            "Requirement already satisfied: urllib3<3,>=1.21.1 in /usr/local/lib/python3.11/dist-packages (from requests>=2.19->astroquery) (2.3.0)\n",
            "Requirement already satisfied: certifi>=2017.4.17 in /usr/local/lib/python3.11/dist-packages (from requests>=2.19->astroquery) (2025.1.31)\n",
            "Downloading gala-1.9.1-cp311-cp311-manylinux_2_28_x86_64.whl (15.0 MB)\n",
            "\u001b[2K   \u001b[90m━━━━━━━━━━━━━━━━━━━━━━━━━━━━━━━━━━━━━━━━\u001b[0m \u001b[32m15.0/15.0 MB\u001b[0m \u001b[31m2.8 MB/s\u001b[0m eta \u001b[36m0:00:00\u001b[0m\n",
            "\u001b[?25hDownloading astroquery-0.4.10-py3-none-any.whl (11.1 MB)\n",
            "\u001b[2K   \u001b[90m━━━━━━━━━━━━━━━━━━━━━━━━━━━━━━━━━━━━━━━━\u001b[0m \u001b[32m11.1/11.1 MB\u001b[0m \u001b[31m98.4 MB/s\u001b[0m eta \u001b[36m0:00:00\u001b[0m\n",
            "\u001b[?25hDownloading pyvo-1.6.1-py3-none-any.whl (997 kB)\n",
            "\u001b[2K   \u001b[90m━━━━━━━━━━━━━━━━━━━━━━━━━━━━━━━━━━━━━━━━\u001b[0m \u001b[32m997.6/997.6 kB\u001b[0m \u001b[31m47.5 MB/s\u001b[0m eta \u001b[36m0:00:00\u001b[0m\n",
            "\u001b[?25hInstalling collected packages: pyvo, gala, astroquery\n",
            "Successfully installed astroquery-0.4.10 gala-1.9.1 pyvo-1.6.1\n"
          ]
        }
      ]
    },
    {
      "cell_type": "markdown",
      "source": [
        "### Imports"
      ],
      "metadata": {
        "id": "WzMg-7oPSlKE"
      }
    },
    {
      "cell_type": "code",
      "source": [
        "# astropy imports\n",
        "import astropy.coordinates as coord\n",
        "from astropy.table import QTable\n",
        "import astropy.units as u\n",
        "from astroquery.gaia import Gaia\n",
        "\n",
        "# Third-party imports\n",
        "import matplotlib as mpl\n",
        "import matplotlib.pyplot as plt\n",
        "import numpy as np\n",
        "%matplotlib inline\n",
        "\n",
        "# gala imports\n",
        "import gala.coordinates as gc\n",
        "import gala.dynamics as gd\n",
        "import gala.potential as gp\n",
        "from gala.units import galactic"
      ],
      "metadata": {
        "id": "6wGAaAGlSg8w"
      },
      "execution_count": 11,
      "outputs": []
    },
    {
      "cell_type": "markdown",
      "source": [
        "### Scientific Background\n",
        "\n",
        "The Gaia mission ( https://www.cosmos.esa.int/web/gaia/) is an ESA mission that aims to measure the 3D positions and velocities of a large number of stars throughout the Milky Way. The primary mission objective is to enable studying the formation, structure, and evolutionary history of our Galaxy by measuring astrometry (sky position, parallax, and proper motion) for about 2 billion stars brighter than the Gaia $G$-band photometric magnitude $G\\leq 21$.\n",
        "\n",
        " By end of mission (~2025), Gaia will also provide multi-band photometry and low-resolution spectrophotometry for these sources, along with radial or line-of-sight velocities for a subsample of about 100 million stars.\n",
        "\n",
        "In April 2018, Gaia publicly released its first major catalog of data — data release 2 or DR2 — which provides a subset of these data to anyone with an internet connection. In this tutorial, we will use astrometry, radial velocities, and photometry for a small subset of DR2."
      ],
      "metadata": {
        "id": "4WklOXbCSq2T"
      }
    },
    {
      "cell_type": "markdown",
      "source": [
        "## Using `astroquery` to retrieve Gaia data"
      ],
      "metadata": {
        "id": "mNFHZcOrTJIO"
      }
    },
    {
      "cell_type": "markdown",
      "source": [
        "We'll start by querying the [Gaia science archive](http://gea.esac.esa.int/archive/) to download astrometric and kinematic data (parallax, proper motion, radial velocity) for a sample of stars near the Sun. We'll use data exclusively from [data release 2 (DR2)](https://www.cosmos.esa.int/web/gaia/data-release-2) from the *Gaia* mission. For the demonstration here, let's grab data for a random subset of 4096 stars within a distance of 100 pc from the Sun that have high signal-to-noise astrometric measurements.\n",
        "\n",
        "To perform the query and to retrieve the data, we'll use the *Gaia* module in the [astroquery](https://astroquery.readthedocs.io/en/latest/gaia/gaia.html) package, `astroquery.gaia`. This module expects us to provide an SQL query to select the data we want, as we discussed earlier in the semester.\n",
        "\n",
        "We don't need all of the columns that are available in DR2, so we'll limit our query to request the sky position (`ra`, `dec`), parallax, proper motion components (`pmra`, `pmdec`), radial velocity, and magnitudes (`phot_*_mean_mag`). More information about the available columns is in the [Gaia DR2 data model](https://gea.esac.esa.int/archive/documentation/GDR2/Gaia_archive/chap_datamodel/sec_dm_main_tables/ssec_dm_gaia_source.html).\n",
        "\n",
        "To select stars that have high signal-to-noise parallaxes, we'll use the filter ``parallax_over_error > 10`` to select stars that have small fractional uncertainties. We'll also use the filter ``radial_velocity IS NOT null`` to only select stars that have measured radial velocities."
      ],
      "metadata": {
        "id": "3xwZ9fsBTNER"
      }
    },
    {
      "cell_type": "code",
      "source": [
        "query_text = '''SELECT TOP 4096 ra, dec, parallax, pmra, pmdec, radial_velocity,\n",
        "phot_g_mean_mag, phot_bp_mean_mag, phot_rp_mean_mag\n",
        "FROM gaiadr2.gaia_source\n",
        "WHERE parallax_over_error > 10 AND\n",
        "    parallax > 10 AND\n",
        "    radial_velocity IS NOT null\n",
        "ORDER BY random_index\n",
        "'''"
      ],
      "metadata": {
        "id": "Eo5hFLqOSnnh"
      },
      "execution_count": 12,
      "outputs": []
    },
    {
      "cell_type": "markdown",
      "source": [
        "We now pass this query to the `Gaia.launch_job()` class method to create an anonymous job in the `Gaia` science archive to run our query. To retrieve the results of this query as an Astropy `Table` object, we then use the `job.get_results()` method. Note that you may receive a number of warnings (output lines that begin with ``WARNING:``) from the ``astropy.io.votable`` package — these are expected, and it's OK to ignore these warnings."
      ],
      "metadata": {
        "id": "MXB8AA1QTajE"
      }
    },
    {
      "cell_type": "code",
      "source": [
        "job = Gaia.launch_job(query_text)\n",
        "gaia_data = job.get_results()\n",
        "gaia_data.write('gaia_data.fits')"
      ],
      "metadata": {
        "id": "sIPM1kqvTYx8"
      },
      "execution_count": 13,
      "outputs": []
    },
    {
      "cell_type": "code",
      "source": [
        "gaia_data = QTable.read('gaia_data.fits')"
      ],
      "metadata": {
        "id": "OxEzC_BSTi4k"
      },
      "execution_count": 14,
      "outputs": []
    },
    {
      "cell_type": "markdown",
      "source": [
        "The `data` object is now an Astropy `Table` called `gaia_data` that contains `Gaia` data for 4096 random stars within 100 pc (or with a parallax > 10 mas) of the Sun, as we requested. Let's look at the first four rows of the table:"
      ],
      "metadata": {
        "id": "tubRSoHlTqsd"
      }
    },
    {
      "cell_type": "code",
      "source": [
        "gaia_data[:4]"
      ],
      "metadata": {
        "colab": {
          "base_uri": "https://localhost:8080/",
          "height": 186
        },
        "id": "zOi_3XIQToDQ",
        "outputId": "be4a1559-289c-40be-e9a1-ac948a4d9b68"
      },
      "execution_count": 15,
      "outputs": [
        {
          "output_type": "execute_result",
          "data": {
            "text/plain": [
              "<QTable length=4>\n",
              "        ra                dec              parallax      ...  phot_bp_mean_mag   phot_rp_mean_mag \n",
              "       deg                deg                mas         ...        mag                mag        \n",
              "     float64            float64            float64       ...      float32            float32      \n",
              "------------------ ------------------ ------------------ ... ------------------ ------------------\n",
              " 256.8370985186671   46.5081010273448 10.770964834345387 ... 14.192928314208984 11.859498023986816\n",
              "129.45826809010867 -6.806694022293258 41.081670013380716 ...  6.931065082550049  6.111272811889648\n",
              " 2.317856723637118   9.00699655780345 17.824765284426462 ... 13.968703269958496 12.223302841186523\n",
              "330.41287472805976  51.88897801553169   13.0756133009657 ...  13.05264949798584 11.149785995483398"
            ],
            "text/html": [
              "<div><i>QTable length=4</i>\n",
              "<table id=\"table135162067832784\" class=\"table-striped table-bordered table-condensed\">\n",
              "<thead><tr><th>ra</th><th>dec</th><th>parallax</th><th>pmra</th><th>pmdec</th><th>radial_velocity</th><th>phot_g_mean_mag</th><th>phot_bp_mean_mag</th><th>phot_rp_mean_mag</th></tr></thead>\n",
              "<thead><tr><th>deg</th><th>deg</th><th>mas</th><th>mas / yr</th><th>mas / yr</th><th>km / s</th><th>mag</th><th>mag</th><th>mag</th></tr></thead>\n",
              "<thead><tr><th>float64</th><th>float64</th><th>float64</th><th>float64</th><th>float64</th><th>float64</th><th>float32</th><th>float32</th><th>float32</th></tr></thead>\n",
              "<tr><td>256.8370985186671</td><td>46.5081010273448</td><td>10.770964834345387</td><td>-19.76657104695835</td><td>55.92605676622464</td><td>-17.673072044811907</td><td>12.956912994384766</td><td>14.192928314208984</td><td>11.859498023986816</td></tr>\n",
              "<tr><td>129.45826809010867</td><td>-6.806694022293258</td><td>41.081670013380716</td><td>-297.34595349374183</td><td>43.83424795415093</td><td>35.53814452290586</td><td>6.576352119445801</td><td>6.931065082550049</td><td>6.111272811889648</td></tr>\n",
              "<tr><td>2.317856723637118</td><td>9.00699655780345</td><td>17.824765284426462</td><td>-171.8278607514459</td><td>-1083.8740928197751</td><td>-148.91780163518774</td><td>13.119074821472168</td><td>13.968703269958496</td><td>12.223302841186523</td></tr>\n",
              "<tr><td>330.41287472805976</td><td>51.88897801553169</td><td>13.0756133009657</td><td>-85.30745872006916</td><td>-34.23366534215265</td><td>-28.726469345049587</td><td>12.101919174194336</td><td>13.05264949798584</td><td>11.149785995483398</td></tr>\n",
              "</table></div>"
            ]
          },
          "metadata": {},
          "execution_count": 15
        }
      ]
    },
    {
      "cell_type": "markdown",
      "source": [
        "Note that the table columns already contain units! They are indicated in the second row of the header."
      ],
      "metadata": {
        "id": "r0seeA8bT4qc"
      }
    },
    {
      "cell_type": "markdown",
      "metadata": {
        "id": "mNmQlG_kTGha"
      },
      "source": [
        "### Using `astropy.coordinates` to represent and transform stellar positions and velocities\n",
        "\n",
        "Let's double check that the farthest star is still within 100 pc, as we expect from the parallax selection we did in the query above. To do this, we'll create an Astropy `Distance` object using the parallax (*Note: this inverts the parallax to compute the distance! This is only a good approximation when the parallax signal to noise is large, as we ensured in the query above with `parallax_over_error > 10`*):"
      ]
    },
    {
      "cell_type": "code",
      "source": [
        "dist = coord.Distance(parallax=u.Quantity(gaia_data['parallax']))\n",
        "dist.min(), dist.max()"
      ],
      "metadata": {
        "colab": {
          "base_uri": "https://localhost:8080/"
        },
        "id": "6GzhinUXT1Vl",
        "outputId": "ce430c71-97ce-4cd2-f9ad-d2716e368bbc"
      },
      "execution_count": 16,
      "outputs": [
        {
          "output_type": "execute_result",
          "data": {
            "text/plain": [
              "(<Distance 8.79909291 pc>, <Distance 99.99985292 pc>)"
            ]
          },
          "metadata": {},
          "execution_count": 16
        }
      ]
    },
    {
      "cell_type": "markdown",
      "source": [
        "It looks like the closest star in our sample is about 9 pc away, and the farthest is almost 100 pc, as we expected.\n",
        "\n",
        "We next want to convert the coordinate position and velocity data from heliocentric, spherical values to Galactocentric, Cartesian values. We'll do this using the [Astropy coordinates](http://docs.astropy.org/en/latest/coordinates/index.html) transformation machinery. To make use of this functionality, we first have to create a `SkyCoord` object from the `Gaia` data we downloaded. The `Gaia` DR2 data are in the ICRS (equatorial) reference frame, which is also the default frame when creating new `SkyCoord` objects, so we don't need to specify the frame below:"
      ],
      "metadata": {
        "id": "oD4LU_nBUTzV"
      }
    },
    {
      "cell_type": "code",
      "source": [
        "c = coord.SkyCoord(ra=gaia_data['ra'],\n",
        "                   dec=gaia_data['dec'],\n",
        "                   distance=dist,\n",
        "                   pm_ra_cosdec=gaia_data['pmra'],\n",
        "                   pm_dec=gaia_data['pmdec'],\n",
        "                   radial_velocity=gaia_data['radial_velocity'])"
      ],
      "metadata": {
        "id": "UnnZFXxSUQMu"
      },
      "execution_count": 17,
      "outputs": []
    },
    {
      "cell_type": "markdown",
      "source": [
        "Note: as described in the [Gaia DR2 data model](https://gea.esac.esa.int/archive/documentation/GDR2/Gaia_archive/chap_datamodel/sec_dm_main_tables/ssec_dm_gaia_source.html), the Gaia column `pmra` contains the cos(dec) term. In Astropy coordinates, the name of this component is `pm_ra_cosdec`.\n",
        "\n",
        "Let's again look at the first four coordinates in the `SkyCoord` object:"
      ],
      "metadata": {
        "id": "Otoe_9qoUd2k"
      }
    },
    {
      "cell_type": "code",
      "source": [
        "c[:4]"
      ],
      "metadata": {
        "colab": {
          "base_uri": "https://localhost:8080/"
        },
        "id": "-Sh7er9CUaj3",
        "outputId": "ed6e0ddd-9b3a-4240-d941-0f8d3630f8fb"
      },
      "execution_count": 18,
      "outputs": [
        {
          "output_type": "execute_result",
          "data": {
            "text/plain": [
              "<SkyCoord (ICRS): (ra, dec, distance) in (deg, deg, pc)\n",
              "    [(256.83709852, 46.50810103, 92.84219338),\n",
              "     (129.45826809, -6.80669402, 24.3417563 ),\n",
              "     (  2.31785672,  9.00699656, 56.1017205 ),\n",
              "     (330.41287473, 51.88897802, 76.47824825)]\n",
              " (pm_ra_cosdec, pm_dec, radial_velocity) in (mas / yr, mas / yr, km / s)\n",
              "    [( -19.76657105,    55.92605677,  -17.67307204),\n",
              "     (-297.34595349,    43.83424795,   35.53814452),\n",
              "     (-171.82786075, -1083.87409282, -148.91780164),\n",
              "     ( -85.30745872,   -34.23366534,  -28.72646935)]>"
            ]
          },
          "metadata": {},
          "execution_count": 18
        }
      ]
    },
    {
      "cell_type": "markdown",
      "source": [
        "Now that we have a `SkyCoord` object with the Gaia data, we can transform to the `Galactic` coordinate system."
      ],
      "metadata": {
        "id": "Bu_7L865UkjW"
      }
    },
    {
      "cell_type": "code",
      "source": [
        "c.galactic[:4]"
      ],
      "metadata": {
        "colab": {
          "base_uri": "https://localhost:8080/"
        },
        "id": "56fL6tymUgN2",
        "outputId": "995b9926-9763-4afd-888e-e80fbf62a335"
      },
      "execution_count": 19,
      "outputs": [
        {
          "output_type": "execute_result",
          "data": {
            "text/plain": [
              "<SkyCoord (Galactic): (l, b, distance) in (deg, deg, pc)\n",
              "    [( 72.32926334,  36.8367097 , 92.84219338),\n",
              "     (232.07542475,  19.9763116 , 24.3417563 ),\n",
              "     (105.68646983, -52.44715126, 56.1017205 ),\n",
              "     ( 98.28701089,  -2.66800849, 76.47824825)]\n",
              " (pm_l_cosb, pm_b, radial_velocity) in (mas / yr, mas / yr, km / s)\n",
              "    [(  55.13035551,   21.88801174,  -17.67307204),\n",
              "     (-195.30630898, -228.4545973 ,   35.53814452),\n",
              "     (-455.13470935, -998.57912013, -148.91780164),\n",
              "     ( -88.74713695,   23.94268239,  -28.72646935)]>"
            ]
          },
          "metadata": {},
          "execution_count": 19
        }
      ]
    },
    {
      "cell_type": "markdown",
      "source": [
        "The `Galactic` frame is still centered on the solar system barycenter, whereas we want to compute the positions and velocities of our sample of stars in a Galactocentric frame, centered on the center of the Milky Way. To do this transformation, Astropy provides the `Galactocentric` frame class."
      ],
      "metadata": {
        "id": "MAvIPAi1Uyxv"
      }
    },
    {
      "cell_type": "code",
      "source": [
        "galcen = c.transform_to(coord.Galactocentric())"
      ],
      "metadata": {
        "id": "_O5MGKVfUsqe"
      },
      "execution_count": 20,
      "outputs": []
    },
    {
      "cell_type": "markdown",
      "source": [
        "The `galcen` object now contains the data for our sample, but in the Galactocentric frame:"
      ],
      "metadata": {
        "id": "8OYtmpKsVHZv"
      }
    },
    {
      "cell_type": "code",
      "source": [
        "galcen[:4]"
      ],
      "metadata": {
        "colab": {
          "base_uri": "https://localhost:8080/"
        },
        "id": "LDWEmgeNVAeI",
        "outputId": "ae982f72-8fdd-4d2d-9101-549be338fcdc"
      },
      "execution_count": 21,
      "outputs": [
        {
          "output_type": "execute_result",
          "data": {
            "text/plain": [
              "<SkyCoord (Galactocentric: galcen_coord=<ICRS Coordinate: (ra, dec) in deg\n",
              "    (266.4051, -28.936175)>, galcen_distance=8.122 kpc, galcen_v_sun=(12.9, 245.6, 7.78) km / s, z_sun=20.8 pc, roll=0.0 deg): (x, y, z) in pc\n",
              "    [(-8099.27557969,  70.79989896,  76.40447526),\n",
              "     (-8136.01292462, -18.04601124,  29.15184863),\n",
              "     (-8131.33217504,  32.92015736, -23.65310988),\n",
              "     (-8132.99337545,  75.59768012,  17.26834184)]\n",
              " (v_x, v_y, v_z) in km / s\n",
              "    [(-16.27286222, 233.98501167,   4.96894252),\n",
              "     (-30.97328868, 226.00094753,  -4.74243368),\n",
              "     (210.78644085, -11.75804787, -36.5296994 ),\n",
              "     ( 48.84184119, 222.24147077,  17.69602425)]>"
            ]
          },
          "metadata": {},
          "execution_count": 21
        }
      ]
    },
    {
      "cell_type": "markdown",
      "source": [
        "We can access the positions of the stars using the `.x`, `.y`, and `.z` attributes, for example:"
      ],
      "metadata": {
        "id": "kFOAyTb_VKul"
      }
    },
    {
      "cell_type": "code",
      "source": [
        "plt.hist(galcen.z.value, bins=np.linspace(-100, 130, 32))\n",
        "plt.xlabel('$z$ [{0:latex_inline}]'.format(galcen.z.unit));"
      ],
      "metadata": {
        "colab": {
          "base_uri": "https://localhost:8080/",
          "height": 453
        },
        "id": "ALZJ5wVEVFI3",
        "outputId": "b5660e65-ebd9-47dd-89a1-8d0a57e08e52"
      },
      "execution_count": 22,
      "outputs": [
        {
          "output_type": "display_data",
          "data": {
            "text/plain": [
              "<Figure size 640x480 with 1 Axes>"
            ],
            "image/png": "[encoded data removed]"
          },
          "metadata": {}
        }
      ]
    },
    {
      "cell_type": "markdown",
      "source": [
        "Similarly, for the velocity components, we can use `.v_x`, `.v_y`, and `.v_z`. For example, to create a classic \"UV\" plane velocity plot:"
      ],
      "metadata": {
        "id": "n-licXFiVZb7"
      }
    },
    {
      "cell_type": "code",
      "source": [
        "fig, ax = plt.subplots(1, 1, figsize=(6, 6))\n",
        "\n",
        "ax.plot(galcen.v_x.value, galcen.v_y.value,\n",
        "        marker='.', linestyle='none', alpha=0.5)\n",
        "\n",
        "ax.set_xlim(-125, 125)\n",
        "ax.set_ylim(200-125, 200+125)\n",
        "\n",
        "ax.set_xlabel('$v_x$ [{0:latex_inline}]'.format(u.km/u.s))\n",
        "ax.set_ylabel('$v_y$ [{0:latex_inline}]'.format(u.km/u.s))"
      ],
      "metadata": {
        "colab": {
          "base_uri": "https://localhost:8080/",
          "height": 566
        },
        "id": "wjiy0ClEVM7Z",
        "outputId": "ba07b40d-5bdf-4265-bf5e-0d987d7bfb2b"
      },
      "execution_count": 23,
      "outputs": [
        {
          "output_type": "execute_result",
          "data": {
            "text/plain": [
              "Text(0, 0.5, '$v_y$ [$\\\\mathrm{km\\\\,s^{-1}}$]')"
            ]
          },
          "metadata": {},
          "execution_count": 23
        },
        {
          "output_type": "display_data",
          "data": {
            "text/plain": [
              "<Figure size 600x600 with 1 Axes>"
            ],
            "image/png": "[encoded data removed]"
          },
          "metadata": {}
        }
      ]
    },
    {
      "cell_type": "code",
      "source": [],
      "metadata": {
        "id": "HHbOq0eOVcwy"
      },
      "execution_count": null,
      "outputs": []
    }
  ]
}