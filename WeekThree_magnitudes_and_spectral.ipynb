{
  "nbformat": 4,
  "nbformat_minor": 0,
  "metadata": {
    "colab": {
      "provenance": [],
      "authorship_tag": "ABX9TyOWV8V3EP9aC2oyPXgeuYrz",
      "include_colab_link": true
    },
    "kernelspec": {
      "name": "python3",
      "display_name": "Python 3"
    },
    "language_info": {
      "name": "python"
    }
  },
  "cells": [
    {
      "cell_type": "markdown",
      "metadata": {
        "id": "view-in-github",
        "colab_type": "text"
      },
      "source": [
        "<a href=\"https://colab.research.google.com/github/ramansbach/astrophysics_notebooks/blob/main/WeekThree_magnitudes_and_spectral.ipynb\" target=\"_parent\"><img src=\"https://colab.research.google.com/assets/colab-badge.svg\" alt=\"Open In Colab\"/></a>"
      ]
    },
    {
      "cell_type": "markdown",
      "source": [
        "# Absolute magnitude\n",
        "We define the \"absolute magnitude\" of a star somewhat arbitrarily as the magnitude it would have when observed at a distance of 10 pc. This really just amounts to setting a \"zero point\" of the magnitude scale, and the equation for this is:\n",
        "$$\n",
        "m-M = 5 \\log\\left(\\frac{d}{10 \\textrm{ pc}} \\right)\n",
        "$$"
      ],
      "metadata": {
        "id": "loshtGotRcHr"
      }
    },
    {
      "cell_type": "code",
      "source": [
        "import numpy as np"
      ],
      "metadata": {
        "id": "TOo6DYRESbAJ"
      },
      "execution_count": 1,
      "outputs": []
    },
    {
      "cell_type": "code",
      "source": [
        "#Let's write a function for finding the absolute magnitude\n",
        "#we have to be careful with units because the argument of a log (or an exp)\n",
        "#must be unitless\n",
        "def absolute_magnitude(m,d):\n",
        "  \"\"\"\n",
        "  determines the absolute magnitude of a star from its distance and apparent\n",
        "  magnitude\n",
        "\n",
        "  Parameters\n",
        "\n",
        "  d: distance (IN PARSECS)\n",
        "  m: apparent magnitude\n",
        "  \"\"\"\n",
        "  M = m - 5*np.log10(d / 10)\n",
        "  return M"
      ],
      "metadata": {
        "id": "qqIRyT8jR_Gl"
      },
      "execution_count": 7,
      "outputs": []
    },
    {
      "cell_type": "code",
      "source": [
        "m_sun = -26.8 #VERY BRIGHT\n",
        "d_AU = 1\n",
        "#CONVERT\n",
        "pc_per_AU = 5*10**(-6) #parsecs\n",
        "d_pc = d_AU * pc_per_AU\n",
        "\n",
        "M_sun = absolute_magnitude(m_sun,d_pc)\n",
        "print(\"The absolute magnitude of the Sun (magnitude at 10 pc) is {}\".format(M_sun))"
      ],
      "metadata": {
        "colab": {
          "base_uri": "https://localhost:8080/"
        },
        "id": "_v4CHjPpShVO",
        "outputId": "e753a999-8096-4445-8b5f-35c174c54c9f"
      },
      "execution_count": 11,
      "outputs": [
        {
          "output_type": "stream",
          "name": "stdout",
          "text": [
            "The absolute magnitude of the Sun (magnitude at 10 pc) is 4.705149978319906\n"
          ]
        }
      ]
    },
    {
      "cell_type": "markdown",
      "source": [
        "# Emission Spectra - Hydrogen Lines\n",
        "Let's write a function to compute the wavelength and energy of a photon for a given energy level transition in hydrogen.  The equations we'll need are the wavelength equation:\n",
        "$$\n",
        "\\frac{1}{\\lambda} = R_H \\left(\\frac{1}{m^2}-\\frac{1}{n^2} \\right), m < n\n",
        "$$\n",
        "with $R_H = 1.0968 \\times 10^7$ m$^{-1}$.  Because the Rydbergy constant is in inverse meters, this equation will as written return a value in inverse meters.\n",
        "\n",
        "We will also need the equation for the energy of a photon,\n",
        "$$\n",
        "E_{\\textrm{photon}} = h \\nu = \\frac{hc}{\\lambda}\n",
        "$$\n",
        "with $h=6.626\\times 10^{-34}$ J s.  If we use this equation and stick to the previous in inverse meters, we'll be in SI units the whole time."
      ],
      "metadata": {
        "id": "M-2tglismmr5"
      }
    },
    {
      "cell_type": "code",
      "source": [
        "def energy_level_trans_H(m,n):\n",
        "  \"\"\"\n",
        "  Calculates and returns the wavelength and energy of a photon associated with a\n",
        "  given energy level transition in hydrogen.\n",
        "\n",
        "  ----------\n",
        "  Parameters\n",
        "  ----------\n",
        "  m: int\n",
        "    quantum number associated with the lower energy level\n",
        "  n: int\n",
        "    quantum number associated with the higher energy level\n",
        "\n",
        "  -------\n",
        "  Returns\n",
        "  -------\n",
        "  lamb: float\n",
        "    wavelength of associated photon (in m)\n",
        "  lambNM: float\n",
        "    wavelength of associated photon (in nm)\n",
        "  ephoton: float\n",
        "    energy of associated photon (in J)\n",
        "  ephotonEV: float\n",
        "    energy of associated photon (in eV)\n",
        "  \"\"\"\n",
        "  if m == n:\n",
        "    print(\"No transition detected\")\n",
        "    return (0,0,0)\n",
        "  if m > n:\n",
        "    raise ValueError(\"m must be less than n\")\n",
        "  RH = 1.0968 * 10**7\n",
        "  h = 6.626 * 10**(-34)\n",
        "  c = 299_792_458\n",
        "  inv_lamb = RH*((1. / (m*m)) - (1. / (n*n)))\n",
        "  ephoton = h * c * inv_lamb\n",
        "  lamb = 1 / inv_lamb\n",
        "  lambNM = lamb * 10**(9)\n",
        "  JperEV = 1.6 * 10**(-19)\n",
        "  ephotonEV = ephoton / JperEV\n",
        "\n",
        "  return (lamb, lambNM, ephoton, ephotonEV)"
      ],
      "metadata": {
        "id": "jLYFjE1Cnoo_"
      },
      "execution_count": 21,
      "outputs": []
    },
    {
      "cell_type": "code",
      "source": [],
      "metadata": {
        "id": "HbUl_p45rrbW"
      },
      "execution_count": null,
      "outputs": []
    }
  ]
}